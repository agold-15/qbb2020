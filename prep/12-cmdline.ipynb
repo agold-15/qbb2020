{
  "metadata": {
    "language_info": {
      "version": "3.7.6",
      "pygments_lexer": "ipython3",
      "codemirror_mode": {
        "name": "ipython",
        "version": 3
      },
      "name": "python",
      "nbconvert_exporter": "python",
      "file_extension": ".py",
      "mimetype": "text/x-python"
    },
    "toc": {
      "toc_postion": {},
      "sideBar": true,
      "number_sections": false,
      "nav_menu": {},
      "skip_h1_title": false,
      "toc_cell": false,
      "title_cell": "Table of Contents",
      "base_numbering": 1
    },
    "kernelspec": {
      "language": "python",
      "display_name": "Python 3",
      "name": "python3"
    }
  },
  "cells": [
    {
      "metadata": {},
      "cell_type": "markdown",
      "source": "Adapted from [Software Carpentry](https://swcarpentry.github.io/python-novice-inflammation/12-cmdline/index.html \"12-cmdline\")",
      "attachments": {}
    },
    {
      "metadata": {},
      "cell_type": "markdown",
      "source": "---\n\n\n\n\n# Command-Line Programs\n\n\nteaching: 30\n\n\nexercises: 0\n\n\nquestions:\n\n\n- \"How can I write Python programs that will work like Unix command-line tools?\"\n\n\nobjectives:\n\n\n- \"Use the values of command-line arguments in a program.\"\n- \"Handle flags and files separately in a command-line program.\"\n- \"Read data from standard input in a program so that it can be used in a pipeline.\"\n\n\nkeypoints:\n\n\n- \"The `sys` library connects a Python program to the system it is running on.\"\n- \"The list `sys.argv` contains the command-line arguments that a program was run with.\"\n- \"Avoid silent failures.\"\n- \"The pseudo-file `sys.stdin` connects to a program's standard input.\"\n---\n\n\n\n\nThe Jupyter Notebook and other interactive tools are great for prototyping code and exploring data, but sooner or later we will want to use our program in a pipeline or run it in a shell script to process thousands of data files. In order to do that, we need to make our programs work like other Unix command-line tools. For example, we may want a program that reads a dataset and prints the average inflammation per patient.\n\n\n",
      "attachments": {}
    },
    {
      "metadata": {},
      "cell_type": "markdown",
      "source": "> ## Switching to Shell Commands\n> \n> \n> In this lesson we are switching from typing commands in a Python interpreter to typing commands in a shell terminal window (such as bash). When you see a `$` in front of a command that tells you to run that command in the shell rather than the Python interpreter.\n> \n> \n",
      "attachments": {}
    },
    {
      "metadata": {},
      "cell_type": "markdown",
      "source": "This program does exactly what we want - it prints the average inflammation per patient for a given file.\n\n\n",
      "attachments": {}
    },
    {
      "metadata": {
        "collapsed": false,
        "format": "row",
        "scrolled": false
      },
      "outputs": [
        {
          "metadata": {},
          "data": {
            "text/plain": "5.45\n5.425\n6.1\n...\n6.4\n7.05\n5.9\n"
          },
          "output_type": "execute_result",
          "execution_count": 1
        }
      ],
      "cell_type": "code",
      "execution_count": 1,
      "source": "$ python code/readings_04.py --mean inflammation-01.csv"
    },
    {
      "metadata": {},
      "cell_type": "markdown",
      "source": "We might also want to look at the minimum of the first four lines\n\n\n---\n\n\n<span style=\"color:blue\">In [1]:</span>\n```bash\n$ head -4 inflammation-01.csv | python code/readings_06.py --min\n```\n---\n\n\n\n\nor the maximum inflammations in several files one after another:\n\n\n---\n\n\n<span style=\"color:blue\">In [1]:</span>\n```bash\n$ python code/readings_04.py --max inflammation-*.csv\n```\n---\n\n\n\n\nOur scripts should do the following:\n\n\n1. If no filename is given on the command line, read data from <span style=\"color:red\" title=\"A process's default input stream. In interactive command-line applications, it is typically connected to the keyboard; in a pipe, it receives data from the standard output of the preceding process.\">standard input</span>.\n2. If one or more filenames are given, read data from them and report statistics for each file separately.\n3. Use the `--min`, `--mean`, or `--max` flag to determine what statistic to print.\nTo make this work, we need to know how to handle command-line arguments in a program, and understand how to handle standard input. We'll tackle these questions in turn below.\n\n\n## Command-Line Arguments\n\n\nUsing the text editor of your choice, save the following in a text file called `sys_version.py`:\n\n\n",
      "attachments": {}
    },
    {
      "metadata": {},
      "cell_type": "markdown",
      "source": "or the maximum inflammations in several files one after another:\n\n\n---\n\n\n<span style=\"color:blue\">In [1]:</span>\n```bash\n$ python code/readings_04.py --max inflammation-*.csv\n```\n---\n\n\n\n\nOur scripts should do the following:\n\n\n1. If no filename is given on the command line, read data from <span style=\"color:red\" title=\"A process's default input stream. In interactive command-line applications, it is typically connected to the keyboard; in a pipe, it receives data from the standard output of the preceding process.\">standard input</span>.\n2. If one or more filenames are given, read data from them and report statistics for each file separately.\n3. Use the `--min`, `--mean`, or `--max` flag to determine what statistic to print.\nTo make this work, we need to know how to handle command-line arguments in a program, and understand how to handle standard input. We'll tackle these questions in turn below.\n\n\n## Command-Line Arguments\n\n\nUsing the text editor of your choice, save the following in a text file called `sys_version.py`:\n\n\n",
      "attachments": {}
    },
    {
      "metadata": {},
      "cell_type": "markdown",
      "source": "Our scripts should do the following:\n\n\n1. If no filename is given on the command line, read data from <span style=\"color:red\" title=\"A process's default input stream. In interactive command-line applications, it is typically connected to the keyboard; in a pipe, it receives data from the standard output of the preceding process.\">standard input</span>.\n2. If one or more filenames are given, read data from them and report statistics for each file separately.\n3. Use the `--min`, `--mean`, or `--max` flag to determine what statistic to print.\nTo make this work, we need to know how to handle command-line arguments in a program, and understand how to handle standard input. We'll tackle these questions in turn below.\n\n\n## Command-Line Arguments\n\n\nUsing the text editor of your choice, save the following in a text file called `sys_version.py`:\n\n\n",
      "attachments": {}
    },
    {
      "metadata": {
        "collapsed": false,
        "format": "row",
        "scrolled": false
      },
      "outputs": [],
      "cell_type": "code",
      "execution_count": 1,
      "source": "import sys\nprint('version is', sys.version)"
    },
    {
      "metadata": {},
      "cell_type": "markdown",
      "source": "The first line imports a library called `sys`, which is short for \"system\". It defines values such as `sys.version`, which describes which version of Python we are running. We can run this script from the command line like this:\n\n\n",
      "attachments": {}
    },
    {
      "metadata": {
        "collapsed": false,
        "format": "row",
        "scrolled": false
      },
      "outputs": [
        {
          "metadata": {},
          "data": {
            "text/plain": "version is 3.4.3+ (default, Jul 28 2015, 13:17:50)\n[GCC 4.9.3]\n"
          },
          "output_type": "execute_result",
          "execution_count": 1
        }
      ],
      "cell_type": "code",
      "execution_count": 1,
      "source": "$ python sys_version.py"
    },
    {
      "metadata": {},
      "cell_type": "markdown",
      "source": "Create another file called `argv_list.py` and save the following text to it.\n\n\n",
      "attachments": {}
    },
    {
      "metadata": {
        "collapsed": false,
        "format": "row",
        "scrolled": false
      },
      "outputs": [],
      "cell_type": "code",
      "execution_count": 1,
      "source": "import sys\nprint('sys.argv is', sys.argv)"
    },
    {
      "metadata": {},
      "cell_type": "markdown",
      "source": "The strange name `argv` stands for \"argument values\". Whenever Python runs a program, it takes all of the values given on the command line and puts them in the list `sys.argv` so that the program can determine what they were. If we run this program with no arguments:\n\n\n",
      "attachments": {}
    },
    {
      "metadata": {
        "collapsed": false,
        "format": "row",
        "scrolled": false
      },
      "outputs": [
        {
          "metadata": {},
          "data": {
            "text/plain": "sys.argv is ['argv_list.py']\n"
          },
          "output_type": "execute_result",
          "execution_count": 1
        }
      ],
      "cell_type": "code",
      "execution_count": 1,
      "source": "$ python argv_list.py"
    },
    {
      "metadata": {},
      "cell_type": "markdown",
      "source": "the only thing in the list is the full path to our script, which is always `sys.argv[0]`. If we run it with a few arguments, however:\n\n\n",
      "attachments": {}
    },
    {
      "metadata": {
        "collapsed": false,
        "format": "row",
        "scrolled": false
      },
      "outputs": [
        {
          "metadata": {},
          "data": {
            "text/plain": "sys.argv is ['argv_list.py', 'first', 'second', 'third']\n"
          },
          "output_type": "execute_result",
          "execution_count": 1
        }
      ],
      "cell_type": "code",
      "execution_count": 1,
      "source": "$ python argv_list.py first second third"
    },
    {
      "metadata": {},
      "cell_type": "markdown",
      "source": "then Python adds each of those arguments to that magic list.\n\n\nWith this in hand, let's build a version of `readings.py` that always prints the per-patient mean of a single data file. The first step is to write a function that outlines our implementation, and a placeholder for the function that does the actual work. By convention this function is usually called `main`, though we can call it whatever we want:\n\n\n---\n\n\n<span style=\"color:blue\">In [1]:</span>\n```bash\n$ cat code/readings_01.py\n```\n---\n\n\n\n\n",
      "attachments": {}
    },
    {
      "metadata": {
        "collapsed": false,
        "format": "row",
        "scrolled": false
      },
      "outputs": [],
      "cell_type": "code",
      "execution_count": 1,
      "source": "import sys\nimport numpy\n\n\ndef main():\n    script = sys.argv[0]\n    filename = sys.argv[1]\n    data = numpy.loadtxt(filename, delimiter=',')\n    for row_mean in numpy.mean(data, axis=1):\n        print(row_mean)"
    },
    {
      "metadata": {},
      "cell_type": "markdown",
      "source": "This function gets the name of the script from `sys.argv[0]`, because that's where it's always put, and the name of the file to process from `sys.argv[1]`. Here's a simple test:\n\n\n---\n\n\n<span style=\"color:blue\">In [1]:</span>\n```bash\n$ python code/readings_01.py inflammation-01.csv\n```\n---\n\n\n\n\nThere is no output because we have defined a function, but haven't actually called it. Let's add a call to `main`:\n\n\n---\n\n\n<span style=\"color:blue\">In [1]:</span>\n```bash\n$ cat code/readings_02.py\n```\n---\n\n\n\n\n",
      "attachments": {}
    },
    {
      "metadata": {},
      "cell_type": "markdown",
      "source": "There is no output because we have defined a function, but haven't actually called it. Let's add a call to `main`:\n\n\n---\n\n\n<span style=\"color:blue\">In [1]:</span>\n```bash\n$ cat code/readings_02.py\n```\n---\n\n\n\n\n",
      "attachments": {}
    },
    {
      "metadata": {
        "collapsed": false,
        "format": "row",
        "scrolled": false
      },
      "outputs": [],
      "cell_type": "code",
      "execution_count": 1,
      "source": "import sys\nimport numpy\n\ndef main():\n    script = sys.argv[0]\n    filename = sys.argv[1]\n    data = numpy.loadtxt(filename, delimiter=',')\n    for row_mean in numpy.mean(data, axis=1):\n        print(row_mean)\n\nif __name__ == '__main__':\n   main()"
    },
    {
      "metadata": {},
      "cell_type": "markdown",
      "source": "and run that:\n\n\n",
      "attachments": {}
    },
    {
      "metadata": {
        "collapsed": false,
        "format": "row",
        "scrolled": false
      },
      "outputs": [
        {
          "metadata": {},
          "data": {
            "text/plain": "5.45\n5.425\n6.1\n5.9\n5.55\n6.225\n5.975\n6.65\n6.625\n6.525\n6.775\n5.8\n6.225\n5.75\n5.225\n6.3\n6.55\n5.7\n5.85\n6.55\n5.775\n5.825\n6.175\n6.1\n5.8\n6.425\n6.05\n6.025\n6.175\n6.55\n6.175\n6.35\n6.725\n6.125\n7.075\n5.725\n5.925\n6.15\n6.075\n5.75\n5.975\n5.725\n6.3\n5.9\n6.75\n5.925\n7.225\n6.15\n5.95\n6.275\n5.7\n6.1\n6.825\n5.975\n6.725\n5.7\n6.25\n6.4\n7.05\n5.9\n"
          },
          "output_type": "execute_result",
          "execution_count": 1
        }
      ],
      "cell_type": "code",
      "execution_count": 1,
      "source": "$ python code/readings_02.py inflammation-01.csv"
    },
    {
      "metadata": {},
      "cell_type": "markdown",
      "source": "> ## Running Versus Importing\n> \n> \n> Running a Python script in bash is very similar to importing that file in Python. The biggest difference is that we don't expect anything to happen when we import a file, whereas when running a script, we expect to see some output printed to the console.\n> \n> \n> In order for a Python script to work as expected when imported or when run as a script, we typically put the part of the script that produces output in the following if statement:\n> \n> \n> ---\n\n\n> <span style=\"color:blue\">In [1]:</span>\n> ```python\n> if __name__ == '__main__':\n> main()  # Or whatever function produces output\n> ```\n> ---\n\n\n> \n> \n> When you import a Python file, `__name__` is the name of that file (e.g., when importing `readings.py`, `__name__` is `'readings'`). However, when running a script in bash, `__name__` is always set to `'__main__'` in that script so that you can determine if the file is being imported or run as a script.\n> \n> \n",
      "attachments": {}
    },
    {
      "metadata": {},
      "cell_type": "markdown",
      "source": "> ## The Right Way to Do It\n> \n> \n> If our programs can take complex parameters or multiple filenames, we shouldn't handle `sys.argv` directly. Instead, we should use Python's `argparse` library, which handles common cases in a systematic way, and also makes it easy for us to provide sensible error messages for our users. We will not cover this module in this lesson but you can go to Tshepang Lekhonkhobe's [Argparse tutorial](http://docs.python.org/3/howto/argparse.html) that is part of Python's Official Documentation.\n> \n> \n",
      "attachments": {}
    },
    {
      "metadata": {},
      "cell_type": "markdown",
      "source": "## Handling Multiple Files\n\n\nThe next step is to teach our program how to handle multiple files. Since 60 lines of output per file is a lot to page through, we'll start by using three smaller files, each of which has three days of data for two patients:\n\n\n",
      "attachments": {}
    },
    {
      "metadata": {
        "collapsed": false,
        "format": "row",
        "scrolled": false
      },
      "outputs": [
        {
          "metadata": {},
          "data": {
            "text/plain": "small-01.csv small-02.csv small-03.csv\n"
          },
          "output_type": "execute_result",
          "execution_count": 1
        }
      ],
      "cell_type": "code",
      "execution_count": 1,
      "source": "$ ls small-*.csv"
    },
    {
      "metadata": {
        "collapsed": false,
        "format": "row",
        "scrolled": false
      },
      "outputs": [
        {
          "metadata": {},
          "data": {
            "text/plain": "0,0,1\n0,1,2\n"
          },
          "output_type": "execute_result",
          "execution_count": 1
        }
      ],
      "cell_type": "code",
      "execution_count": 1,
      "source": "$ cat small-01.csv"
    },
    {
      "metadata": {
        "collapsed": false,
        "format": "row",
        "scrolled": false
      },
      "outputs": [
        {
          "metadata": {},
          "data": {
            "text/plain": "0.333333333333\n1.0\n"
          },
          "output_type": "execute_result",
          "execution_count": 1
        }
      ],
      "cell_type": "code",
      "execution_count": 1,
      "source": "$ python code/readings_02.py small-01.csv"
    },
    {
      "metadata": {},
      "cell_type": "markdown",
      "source": "Using small data files as input also allows us to check our results more easily: here, for example, we can see that our program is calculating the mean correctly for each line, whereas we were really taking it on faith before. This is yet another rule of programming: *test the simple things first*.\n\n\nWe want our program to process each file separately, so we need a loop that executes once for each filename. If we specify the files on the command line, the filenames will be in `sys.argv`, but we need to be careful: `sys.argv[0]` will always be the name of our script, rather than the name of a file. We also need to handle an unknown number of filenames, since our program could be run for any number of files.\n\n\nThe solution to both problems is to loop over the contents of `sys.argv[1:]`. The '1' tells Python to start the slice at location 1, so the program's name isn't included; since we've left off the upper bound, the slice runs to the end of the list, and includes all the filenames. Here's our changed program `readings_03.py`:\n\n\n---\n\n\n<span style=\"color:blue\">In [1]:</span>\n```bash\n$ cat code/readings_03.py\n```\n---\n\n\n\n\n",
      "attachments": {}
    },
    {
      "metadata": {
        "collapsed": false,
        "format": "row",
        "scrolled": false
      },
      "outputs": [],
      "cell_type": "code",
      "execution_count": 1,
      "source": "import sys\nimport numpy\n\ndef main():\n    script = sys.argv[0]\n    for filename in sys.argv[1:]:\n        data = numpy.loadtxt(filename, delimiter=',')\n        for row_mean in numpy.mean(data, axis=1):\n            print(row_mean)\n\nif __name__ == '__main__':\n   main()"
    },
    {
      "metadata": {},
      "cell_type": "markdown",
      "source": "and here it is in action:\n\n\n",
      "attachments": {}
    },
    {
      "metadata": {
        "collapsed": false,
        "format": "row",
        "scrolled": false
      },
      "outputs": [
        {
          "metadata": {},
          "data": {
            "text/plain": "0.333333333333\n1.0\n13.6666666667\n11.0\n"
          },
          "output_type": "execute_result",
          "execution_count": 1
        }
      ],
      "cell_type": "code",
      "execution_count": 1,
      "source": "$ python code/readings_03.py small-01.csv small-02.csv"
    },
    {
      "metadata": {},
      "cell_type": "markdown",
      "source": "> ## The Right Way to Do It\n> \n> \n> At this point, we have created three versions of our script called `readings_01.py`, `readings_02.py`, and `readings_03.py`. We wouldn't do this in real life: instead, we would have one file called `readings.py` that we committed to version control every time we got an enhancement working. For teaching, though, we need all the successive versions side by side.\n> \n> \n",
      "attachments": {}
    },
    {
      "metadata": {},
      "cell_type": "markdown",
      "source": "## Handling Command-Line Flags\n\n\nThe next step is to teach our program to pay attention to the `--min`, `--mean`, and `--max` flags. These always appear before the names of the files, so we could do this:\n\n\n---\n\n\n<span style=\"color:blue\">In [1]:</span>\n```bash\n$ cat code/readings_04.py\n```\n---\n\n\n\n\n",
      "attachments": {}
    },
    {
      "metadata": {
        "collapsed": false,
        "format": "row",
        "scrolled": false
      },
      "outputs": [],
      "cell_type": "code",
      "execution_count": 1,
      "source": "import sys\nimport numpy\n\ndef main():\n    script = sys.argv[0]\n    action = sys.argv[1]\n    filenames = sys.argv[2:]\n\n    for filename in filenames:\n        data = numpy.loadtxt(filename, delimiter=',')\n\n        if action == '--min':\n            values = numpy.min(data, axis=1)\n        elif action == '--mean':\n            values = numpy.mean(data, axis=1)\n        elif action == '--max':\n            values = numpy.max(data, axis=1)\n\n        for val in values:\n            print(val)\n\nif __name__ == '__main__':\n   main()"
    },
    {
      "metadata": {},
      "cell_type": "markdown",
      "source": "This works:\n\n\n",
      "attachments": {}
    },
    {
      "metadata": {
        "collapsed": false,
        "format": "row",
        "scrolled": false
      },
      "outputs": [
        {
          "metadata": {},
          "data": {
            "text/plain": "1.0\n2.0\n"
          },
          "output_type": "execute_result",
          "execution_count": 1
        }
      ],
      "cell_type": "code",
      "execution_count": 1,
      "source": "$ python code/readings_04.py --max small-01.csv"
    },
    {
      "metadata": {},
      "cell_type": "markdown",
      "source": "but there are several things wrong with it:\n\n\n1.  `main` is too large to read comfortably.\n2. If we do not specify at least two additional arguments on the command-line, one for the **flag** and one for the **filename**, but only one, the program will not throw an exception but will run. It assumes that the file list is empty, as `sys.argv[1]` will be considered the `action`, even if it is a filename. <span style=\"color:red\" title=\"\">Silent failures</span>  like this are always hard to debug.\n3. The program should check if the submitted `action` is one of the three recognized flags.\nThis version pulls the processing of each file out of the loop into a function of its own. It also checks that `action` is one of the allowed flags before doing any processing, so that the program fails fast:\n\n\n---\n\n\n<span style=\"color:blue\">In [1]:</span>\n```bash\n$ cat code/readings_05.py\n```\n---\n\n\n\n\n",
      "attachments": {}
    },
    {
      "metadata": {
        "collapsed": false,
        "format": "row",
        "scrolled": false
      },
      "outputs": [],
      "cell_type": "code",
      "execution_count": 1,
      "source": "import sys\nimport numpy\n\ndef main():\n    script = sys.argv[0]\n    action = sys.argv[1]\n    filenames = sys.argv[2:]\n    assert action in ['--min', '--mean', '--max'], \\\n           'Action is not one of --min, --mean, or --max: ' + action\n    for filename in filenames:\n        process(filename, action)\n\ndef process(filename, action):\n    data = numpy.loadtxt(filename, delimiter=',')\n\n    if action == '--min':\n        values = numpy.min(data, axis=1)\n    elif action == '--mean':\n        values = numpy.mean(data, axis=1)\n    elif action == '--max':\n        values = numpy.max(data, axis=1)\n\n    for val in values:\n        print(val)\n\nif __name__ == '__main__':\n   main()"
    },
    {
      "metadata": {},
      "cell_type": "markdown",
      "source": "This is four lines longer than its predecessor, but broken into more digestible chunks of 8 and 12 lines.\n\n\n## Handling Standard Input\n\n\nThe next thing our program has to do is read data from standard input if no filenames are given so that we can put it in a pipeline, redirect input to it, and so on. Let's experiment in another script called `count_stdin.py`:\n\n\n---\n\n\n<span style=\"color:blue\">In [1]:</span>\n```bash\n$ cat code/count_stdin.py\n```\n---\n\n\n\n\n",
      "attachments": {}
    },
    {
      "metadata": {
        "collapsed": false,
        "format": "row",
        "scrolled": false
      },
      "outputs": [],
      "cell_type": "code",
      "execution_count": 1,
      "source": "import sys\n\ncount = 0\nfor line in sys.stdin:\n    count += 1\n\nprint(count, 'lines in standard input')"
    },
    {
      "metadata": {},
      "cell_type": "markdown",
      "source": "This little program reads lines from a special \"file\" called `sys.stdin`, which is automatically connected to the program's standard input. We don't have to open it --- Python and the operating system take care of that when the program starts up --- but we can do almost anything with it that we could do to a regular file. Let's try running it as if it were a regular command-line program:\n\n\n",
      "attachments": {}
    },
    {
      "metadata": {
        "collapsed": false,
        "format": "row",
        "scrolled": false
      },
      "outputs": [
        {
          "metadata": {},
          "data": {
            "text/plain": "2 lines in standard input\n"
          },
          "output_type": "execute_result",
          "execution_count": 1
        }
      ],
      "cell_type": "code",
      "execution_count": 1,
      "source": "$ python code/count_stdin.py < small-01.csv"
    },
    {
      "metadata": {},
      "cell_type": "markdown",
      "source": "A common mistake is to try to run something that reads from standard input like this:\n\n\n---\n\n\n<span style=\"color:blue\">In [1]:</span>\n```bash\n$ python code/count_stdin.py small-01.csv\n```\n---\n\n\n\n\ni.e., to forget the `<` character that redirects the file to standard input. In this case, there's nothing in standard input, so the program waits at the start of the loop for someone to type something on the keyboard. Since there's no way for us to do this, our program is stuck, and we have to halt it using the `Interrupt` option from the `Kernel` menu in the Notebook.\n\n\nWe now need to rewrite the program so that it loads data from `sys.stdin` if no filenames are provided. Luckily, `numpy.loadtxt` can handle either a filename or an open file as its first parameter, so we don't actually need to change `process`. Only `main` changes:\n\n\n---\n\n\n<span style=\"color:blue\">In [1]:</span>\n```bash\n$ cat code/readings_06.py\n```\n---\n\n\n\n\n",
      "attachments": {}
    },
    {
      "metadata": {},
      "cell_type": "markdown",
      "source": "i.e., to forget the `<` character that redirects the file to standard input. In this case, there's nothing in standard input, so the program waits at the start of the loop for someone to type something on the keyboard. Since there's no way for us to do this, our program is stuck, and we have to halt it using the `Interrupt` option from the `Kernel` menu in the Notebook.\n\n\nWe now need to rewrite the program so that it loads data from `sys.stdin` if no filenames are provided. Luckily, `numpy.loadtxt` can handle either a filename or an open file as its first parameter, so we don't actually need to change `process`. Only `main` changes:\n\n\n---\n\n\n<span style=\"color:blue\">In [1]:</span>\n```bash\n$ cat code/readings_06.py\n```\n---\n\n\n\n\n",
      "attachments": {}
    },
    {
      "metadata": {
        "collapsed": false,
        "format": "row",
        "scrolled": false
      },
      "outputs": [],
      "cell_type": "code",
      "execution_count": 1,
      "source": "import sys\nimport numpy\n\ndef main():\n    script = sys.argv[0]\n    action = sys.argv[1]\n    filenames = sys.argv[2:]\n    assert action in ['--min', '--mean', '--max'], \\\n           'Action is not one of --min, --mean, or --max: ' + action\n    if len(filenames) == 0:\n        process(sys.stdin, action)\n    else:\n        for filename in filenames:\n            process(filename, action)\n\ndef process(filename, action):\n    data = numpy.loadtxt(filename, delimiter=',')\n\n    if action == '--min':\n        values = numpy.min(data, axis=1)\n    elif action == '--mean':\n        values = numpy.mean(data, axis=1)\n    elif action == '--max':\n        values = numpy.max(data, axis=1)\n\n    for val in values:\n        print(val)\n\nif __name__ == '__main__':\n   main()"
    },
    {
      "metadata": {},
      "cell_type": "markdown",
      "source": "Let's try it out:\n\n\n",
      "attachments": {}
    },
    {
      "metadata": {
        "collapsed": false,
        "format": "row",
        "scrolled": false
      },
      "outputs": [
        {
          "metadata": {},
          "data": {
            "text/plain": "0.333333333333\n1.0\n"
          },
          "output_type": "execute_result",
          "execution_count": 1
        }
      ],
      "cell_type": "code",
      "execution_count": 1,
      "source": "$ python code/readings_06.py --mean < small-01.csv"
    },
    {
      "metadata": {},
      "cell_type": "markdown",
      "source": "That's better. In fact, that's done: the program now does everything we set out to do.\n\n\n",
      "attachments": {}
    },
    {
      "metadata": {},
      "cell_type": "markdown",
      "source": "## Arithmetic on the Command Line  \n\n\nWrite a command-line program that does addition and subtraction:  \n\n\n---  \n<span style=\"color:blue\">In [1]:</span>  \n```bash\n$ python arith.py add 1 2  \n```\n---  \n\n\n---  \n<span style=\"color:red\">Out [1]:</span>  \n```bash\n3  \n```\n---  \n\n\n---  \n<span style=\"color:blue\">In [1]:</span>  \n```bash\n$ python arith.py subtract 3 4  \n```\n---  \n\n\n---  \n<span style=\"color:red\">Out [1]:</span>  \n```bash\n-1  \n```\n---  \n\n\n<details>  \n<summary><b> Solution</b></summary>  \n\n---  \n<span style=\"color:blue\">In [1]:</span>  \n```python\nimport sys  \n\ndef main():  \nassert len(sys.argv) == 4, 'Need exactly 3 arguments'  \n\noperator = sys.argv[1]  \nassert operator in ['add', 'subtract', 'multiply', 'divide'], \\  \n'Operator is not one of add, subtract, multiply, or divide: bailing out'  \ntry:  \noperand1, operand2 = float(sys.argv[2]), float(sys.argv[3])  \nexcept ValueError:  \nprint('cannot convert input to a number: bailing out')  \nreturn  \n\ndo_arithmetic(operand1, operator, operand2)  \n\ndef do_arithmetic(operand1, operator, operand2):  \n\nif operator == 'add':  \nvalue = operand1 + operand2  \nelif operator == 'subtract':  \nvalue = operand1 - operand2  \nelif operator == 'multiply':  \nvalue = operand1 * operand2  \nelif operator == 'divide':  \nvalue = operand1 / operand2  \nprint(value)  \n\nmain()  \n```\n---  \n\n\n</details>  \n",
      "attachments": {}
    },
    {
      "metadata": {},
      "cell_type": "markdown",
      "source": "## Finding Particular Files  \n\n\nUsing the `glob` module introduced earlier, write a simple version of `ls` that shows files in the current directory with a particular suffix. A call to this script should look like this:  \n\n\n---  \n<span style=\"color:blue\">In [1]:</span>  \n```bash\n$ python my_ls.py py  \n```\n---  \n\n\n---  \n<span style=\"color:red\">Out [1]:</span>  \n```bash\nleft.py  \nright.py  \nzero.py  \n```\n---  \n\n\n<details>  \n<summary><b> Solution</b></summary>  \n\n---  \n<span style=\"color:blue\">In [1]:</span>  \n```python\nimport sys  \nimport glob  \n\ndef main():  \n\"\"\"prints names of all files with sys.argv as suffix\"\"\"  \nassert len(sys.argv) >= 2, 'Argument list cannot be empty'  \nsuffix = sys.argv[1] # NB: behaviour is not as you'd expect if sys.argv[1] is *  \nglob_input = '*.' + suffix # construct the input  \nglob_output = sorted(glob.glob(glob_input)) # call the glob function  \nfor item in glob_output: # print the output  \nprint(item)  \nreturn  \n\nmain()  \n```\n---  \n\n\n</details>  \n",
      "attachments": {}
    },
    {
      "metadata": {},
      "cell_type": "markdown",
      "source": "## Changing Flags  \n\n\nRewrite `readings.py` so that it uses `-n`, `-m`, and `-x` instead of `--min`, `--mean`, and `--max` respectively. Is the code easier to read? Is the program easier to understand?  \n\n\n<details>  \n<summary><b> Solution</b></summary>  \n\n---  \n<span style=\"color:blue\">In [1]:</span>  \n```python\n# this is code/readings_07.py  \nimport sys  \nimport numpy  \n\ndef main():  \nscript = sys.argv[0]  \naction = sys.argv[1]  \nfilenames = sys.argv[2:]  \nassert action in ['-n', '-m', '-x'], \\  \n'Action is not one of -n, -m, or -x: ' + action  \nif len(filenames) == 0:  \nprocess(sys.stdin, action)  \nelse:  \nfor filename in filenames:  \nprocess(filename, action)  \n\ndef process(filename, action):  \ndata = numpy.loadtxt(filename, delimiter=',')  \n\nif action == '-n':  \nvalues = numpy.min(data, axis=1)  \nelif action == '-m':  \nvalues = numpy.mean(data, axis=1)  \nelif action == '-x':  \nvalues = numpy.max(data, axis=1)  \n\nfor val in values:  \nprint(val)  \n\nmain()  \n```\n---  \n\n\n</details>  \n",
      "attachments": {}
    },
    {
      "metadata": {},
      "cell_type": "markdown",
      "source": "## Adding a Help Message  \n\n\nSeparately, modify `readings.py` so that if no parameters are given (i.e., no action is specified and no filenames are given), it prints a message explaining how it should be used.  \n\n\n<details>  \n<summary><b> Solution</b></summary>  \n\n---  \n<span style=\"color:blue\">In [1]:</span>  \n```python\n# this is code/readings_08.py  \nimport sys  \nimport numpy  \n\ndef main():  \nscript = sys.argv[0]  \nif len(sys.argv) == 1: # no arguments, so print help message  \nprint(\"\"\"Usage: python readings_08.py action filenames  \naction must be one of --min --mean --max  \nif filenames is blank, input is taken from stdin;  \notherwise, each filename in the list of arguments is processed in turn\"\"\")  \nreturn  \n\naction = sys.argv[1]  \nfilenames = sys.argv[2:]  \nassert action in ['--min', '--mean', '--max'], \\  \n'Action is not one of --min, --mean, or --max: ' + action  \nif len(filenames) == 0:  \nprocess(sys.stdin, action)  \nelse:  \nfor filename in filenames:  \nprocess(filename, action)  \n\ndef process(filename, action):  \ndata = numpy.loadtxt(filename, delimiter=',')  \n\nif action == '--min':  \nvalues = numpy.min(data, axis=1)  \nelif action == '--mean':  \nvalues = numpy.mean(data, axis=1)  \nelif action == '--max':  \nvalues = numpy.max(data, axis=1)  \n\nfor val in values:  \nprint(val)  \n\nmain()  \n```\n---  \n\n\n</details>  \n",
      "attachments": {}
    },
    {
      "metadata": {},
      "cell_type": "markdown",
      "source": "## Adding a Default Action  \n\n\nSeparately, modify `readings.py` so that if no action is given it displays the means of the data.  \n\n\n<details>  \n<summary><b> Solution</b></summary>  \n\n---  \n<span style=\"color:blue\">In [1]:</span>  \n```python\n# this is code/readings_09.py  \nimport sys  \nimport numpy  \n\ndef main():  \nscript = sys.argv[0]  \naction = sys.argv[1]  \nif action not in ['--min', '--mean', '--max']: # if no action given  \naction = '--mean'    # set a default action, that being mean  \nfilenames = sys.argv[1:] # start the filenames one place earlier in the argv list  \nelse:  \nfilenames = sys.argv[2:]  \n\nif len(filenames) == 0:  \nprocess(sys.stdin, action)  \nelse:  \nfor filename in filenames:  \nprocess(filename, action)  \n\ndef process(filename, action):  \ndata = numpy.loadtxt(filename, delimiter=',')  \n\nif action == '--min':  \nvalues = numpy.min(data, axis=1)  \nelif action == '--mean':  \nvalues = numpy.mean(data, axis=1)  \nelif action == '--max':  \nvalues = numpy.max(data, axis=1)  \n\nfor val in values:  \nprint(val)  \n\nmain()  \n```\n---  \n\n\n</details>  \n",
      "attachments": {}
    },
    {
      "metadata": {},
      "cell_type": "markdown",
      "source": "## A File-Checker  \n\n\nWrite a program called `check.py` that takes the names of one or more inflammation data files as arguments and checks that all the files have the same number of rows and columns. What is the best way to test your program?  \n\n\n<details>  \n<summary><b> Solution</b></summary>  \n\n---  \n<span style=\"color:blue\">In [1]:</span>  \n```python\nimport sys  \nimport numpy  \n\ndef main():  \nscript = sys.argv[0]  \nfilenames = sys.argv[1:]  \nif len(filenames) <=1: #nothing to check  \nprint('Only 1 file specified on input')  \nelse:  \nnrow0, ncol0 = row_col_count(filenames[0])  \nprint('First file %s: %d rows and %d columns' % (filenames[0], nrow0, ncol0))  \nfor filename in filenames[1:]:  \nnrow, ncol = row_col_count(filename)  \nif nrow != nrow0 or ncol != ncol0:  \nprint('File %s does not check: %d rows and %d columns' % (filename, nrow, ncol))  \nelse:  \nprint('File %s checks' % filename)  \nreturn  \n\ndef row_col_count(filename):  \ntry:  \nnrow, ncol = numpy.loadtxt(filename, delimiter=',').shape  \nexcept ValueError:  \n# 'ValueError' error is raised when numpy encounters lines that  \n# have different number of data elements in them than the rest of the lines,  \n# or when lines have non-numeric elements  \nnrow, ncol = (0, 0)  \nreturn nrow, ncol  \n\nmain()  \n```\n---  \n\n\n</details>  \n",
      "attachments": {}
    },
    {
      "metadata": {},
      "cell_type": "markdown",
      "source": "## Counting Lines  \n\n\nWrite a program called `line_count.py` that works like the Unix `wc` command:  \n\n\n*   If no filenames are given, it reports the number of lines in standard input. *   If one or more filenames are given, it reports the number of lines in each, followed by the total number of lines.  \n\n\n<details>  \n<summary><b> Solution</b></summary>  \n\n---  \n<span style=\"color:blue\">In [1]:</span>  \n```python\nimport sys  \n\ndef main():  \n\"\"\"print each input filename and the number of lines in it,  \nand print the sum of the number of lines\"\"\"  \nfilenames = sys.argv[1:]  \nsum_nlines = 0 #initialize counting variable  \n\nif len(filenames) == 0: # no filenames, just stdin  \nsum_nlines = count_file_like(sys.stdin)  \nprint('stdin: %d' % sum_nlines)  \nelse:  \nfor filename in filenames:  \nnlines = count_file(filename)  \nprint('%s %d' % (filename, nlines))  \nsum_nlines += nlines  \nprint('total: %d' % sum_nlines)  \n\ndef count_file(filename):  \n\"\"\"count the number of lines in a file\"\"\"  \nf = open(filename,'r')  \nnlines = len(f.readlines())  \nf.close()  \nreturn(nlines)  \n\ndef count_file_like(file_like):  \n\"\"\"count the number of lines in a file-like object (eg stdin)\"\"\"  \nn = 0  \nfor line in file_like:  \nn = n+1  \nreturn n  \n\nmain()  \n\n```\n---  \n\n\n</details>  \n",
      "attachments": {}
    },
    {
      "metadata": {},
      "cell_type": "markdown",
      "source": "## Generate an Error Message  \n\n\nWrite a program called `check_arguments.py` that prints usage then exits the program if no arguments are provided. (Hint: You can use `sys.exit()` to exit the program.)  \n\n\n---  \n<span style=\"color:blue\">In [1]:</span>  \n```bash\n$ python check_arguments.py  \n```\n---  \n\n\n---  \n<span style=\"color:red\">Out [1]:</span>  \n```bash\nusage: python check_argument.py filename.txt  \n```\n---  \n\n\n---  \n<span style=\"color:blue\">In [1]:</span>  \n```bash\n$ python check_arguments.py filename.txt  \n```\n---  \n\n\n---  \n<span style=\"color:red\">Out [1]:</span>  \n```bash\nThanks for specifying arguments!  \n```\n---  \n\n\n",
      "attachments": {}
    }
  ],
  "nbformat": 4,
  "nbformat_minor": 0
}