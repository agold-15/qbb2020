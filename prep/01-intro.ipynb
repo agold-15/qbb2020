// 202007241158
// https://raw.githubusercontent.com/bxlab/qbb2020/master/prep/01-intro.md

{
  "nbformat_minor": 0,
  "cells": [
    {
      "source": "Adapted from [Software Carpentry](https://swcarpentry.github.io/python-novice-inflammation/01-intro/index.html \"01-intro\")",
      "metadata": {},
      "cell_type": "markdown",
      "attachments": {}
    },
    {
      "source": "---\n\n\n\n\n# Python Fundamentals\n\n\nteaching: 20\n\n\nexercises: 10\n\n\nquestions:\n\n\n- \"What basic data types can I work with in Python?\"\n- \"How can I create a new variable in Python?\"\n- \"Can I change the value associated with a variable after I create it?\"\n\n\nobjectives:\n\n\n- \"Assign values to variables.\"\n\n\nkeypoints:\n\n\n- \"Basic data types in Python include integers, strings, and floating-point numbers.\"\n- \"Use `variable = value` to assign a value to a variable in order to record it in memory.\"\n- \"Variables are created on demand whenever a value is assigned to them.\"\n- \"Use `print(something)` to display the value of `something`.\"\n---\n\n\n\n\n## Variables\n\n\nAny Python interpreter can be used as a calculator:\n\n\n",
      "metadata": {},
      "cell_type": "markdown",
      "attachments": {}
    },
    {
      "source": "3 + 5 * 4",
      "metadata": {
        "scrolled": false,
        "format": "row",
        "collapsed": false
      },
      "cell_type": "code",
      "execution_count": 1,
      "outputs": [
        {
          "metadata": {},
          "output_type": "execute_result",
          "execution_count": 1,
          "data": {
            "text/plain": "23"
          }
        }
      ]
    },
    {
      "source": "This is great but not very interesting. To do anything useful with data, we need to assign its value to a _variable_. In Python, we can <span style=\"color:red\" title=\"To give a value a name by associating a variable with it.\">assign</span> a value to a <span style=\"color:red\" title=\"A value that has a name associated with it.\">variable</span>, using the equals sign `=`. For example, to assign value `60` to a variable `weight_kg`, we would execute:\n\n\n",
      "metadata": {},
      "cell_type": "markdown",
      "attachments": {}
    },
    {
      "source": "weight_kg = 60",
      "metadata": {
        "scrolled": false,
        "format": "row",
        "collapsed": false
      },
      "cell_type": "code",
      "execution_count": 1,
      "outputs": []
    },
    {
      "source": "From now on, whenever we use `weight_kg`, Python will substitute the value we assigned to it. In layman's terms, **a variable is a name for a value**.\n\n\nIn Python, variable names:\n\n\n- can include letters, digits, and underscores - cannot start with a digit - are <span style=\"color:red\" title=\"Treating text as if upper and lower case characters of the same letter are different. See also: case-insensitive.\">case sensitive</span>.\n\n\nThis means that, for example: - `weight0` is a valid variable name, whereas `0weight` is not - `weight` and `Weight` are different variables\n\n\n## Types of data\n\n\nPython knows various types of data. Three common ones are:\n\n\n* integer numbers * floating point numbers, and * strings.\n\n\nIn the example above, variable `weight_kg` has an integer value of `60`. To create a variable with a floating point value, we can execute:\n\n\n",
      "metadata": {},
      "cell_type": "markdown",
      "attachments": {}
    },
    {
      "source": "weight_kg = 60.0",
      "metadata": {
        "scrolled": false,
        "format": "row",
        "collapsed": false
      },
      "cell_type": "code",
      "execution_count": 1,
      "outputs": []
    },
    {
      "source": "And to create a string, we add single or double quotes around some text, for example:\n\n\n",
      "metadata": {},
      "cell_type": "markdown",
      "attachments": {}
    },
    {
      "source": "weight_kg_text = 'weight in kilograms:'",
      "metadata": {
        "scrolled": false,
        "format": "row",
        "collapsed": false
      },
      "cell_type": "code",
      "execution_count": 1,
      "outputs": []
    },
    {
      "source": "## Using Variables in Python\n\n\nTo display the value of a variable to the screen in Python, we can use the `print` function:\n\n\n",
      "metadata": {},
      "cell_type": "markdown",
      "attachments": {}
    },
    {
      "source": "print(weight_kg)",
      "metadata": {
        "scrolled": false,
        "format": "row",
        "collapsed": false
      },
      "cell_type": "code",
      "execution_count": 1,
      "outputs": [
        {
          "metadata": {},
          "output_type": "execute_result",
          "execution_count": 1,
          "data": {
            "text/plain": "60.0"
          }
        }
      ]
    },
    {
      "source": "We can display multiple things at once using only one `print` command:\n\n\n",
      "metadata": {},
      "cell_type": "markdown",
      "attachments": {}
    },
    {
      "source": "print(weight_kg_text, weight_kg)",
      "metadata": {
        "scrolled": false,
        "format": "row",
        "collapsed": false
      },
      "cell_type": "code",
      "execution_count": 1,
      "outputs": [
        {
          "metadata": {},
          "output_type": "execute_result",
          "execution_count": 1,
          "data": {
            "text/plain": "weight in kilograms: 60.0"
          }
        }
      ]
    },
    {
      "source": "Moreover, we can do arithmetic with variables right inside the `print` function:\n\n\n",
      "metadata": {},
      "cell_type": "markdown",
      "attachments": {}
    },
    {
      "source": "print('weight in pounds:', 2.2 * weight_kg)",
      "metadata": {
        "scrolled": false,
        "format": "row",
        "collapsed": false
      },
      "cell_type": "code",
      "execution_count": 1,
      "outputs": [
        {
          "metadata": {},
          "output_type": "execute_result",
          "execution_count": 1,
          "data": {
            "text/plain": "weight in pounds: 132.0"
          }
        }
      ]
    },
    {
      "source": "The above command, however, did not change the value of `weight_kg`:\n\n\n",
      "metadata": {},
      "cell_type": "markdown",
      "attachments": {}
    },
    {
      "source": "print(weight_kg)",
      "metadata": {
        "scrolled": false,
        "format": "row",
        "collapsed": false
      },
      "cell_type": "code",
      "execution_count": 1,
      "outputs": [
        {
          "metadata": {},
          "output_type": "execute_result",
          "execution_count": 1,
          "data": {
            "text/plain": "60.0"
          }
        }
      ]
    },
    {
      "source": "To change the value of the `weight_kg` variable, we have to **assign** `weight_kg` a new value using the equals `=` sign:\n\n\n",
      "metadata": {},
      "cell_type": "markdown",
      "attachments": {}
    },
    {
      "source": "weight_kg = 65.0\nprint('weight in kilograms is now:', weight_kg)",
      "metadata": {
        "scrolled": false,
        "format": "row",
        "collapsed": false
      },
      "cell_type": "code",
      "execution_count": 1,
      "outputs": [
        {
          "metadata": {},
          "output_type": "execute_result",
          "execution_count": 1,
          "data": {
            "text/plain": "weight in kilograms is now: 65.0"
          }
        }
      ]
    },
    {
      "source": "> ## Variables as Sticky Notes\n> \n> \n> A variable is analogous to a sticky note with a name written on it: assigning a value to a variable is like putting that sticky note on a particular value.\n> \n> \n> > <img src=fig/python-sticky-note-variables-01.svg>Value of 65.0 with weight_kg label stuck on it\n> \n> \n> This means that assigning a value to one variable does **not** change values of other variables. For example, let's store the subject's weight in pounds in its own variable:\n> \n> \n> ---\n\n\n> <span style=\"color:blue\">In [1]:</span>\n> ```python\n> # There are 2.2 pounds per kilogram\n> weight_lb = 2.2 * weight_kg\n> print(weight_kg_text, weight_kg, 'and in pounds:', weight_lb)\n> ```\n> ---\n\n\n> \n> \n> ---\n\n\n> <span style=\"color:red\">Out [1]:</span>\n> ```python\n> weight in kilograms: 65.0 and in pounds: 143.0\n> ```\n> ---\n\n\n> \n> \n> > <img src=fig/python-sticky-note-variables-02.svg>Value of 65.0 with weight_kg label stuck on it, and value of 143.0 with weight_lb label stuck on it\n> \n> \n> Let's now change `weight_kg`:\n> \n> \n> ---\n\n\n> <span style=\"color:blue\">In [1]:</span>\n> ```python\n> weight_kg = 100.0\n> print('weight in kilograms is now:', weight_kg, 'and weight in pounds is still:', weight_lb)\n> ```\n> ---\n\n\n> \n> \n> ---\n\n\n> <span style=\"color:red\">Out [1]:</span>\n> ```python\n> weight in kilograms is now: 100.0 and weight in pounds is still: 143.0\n> ```\n> ---\n\n\n> \n> \n> > <img src=fig/python-sticky-note-variables-03.svg>Value of 100.0 with label weight_kg stuck on it, and value of 143.0 with label weight_lb stuck on it\n> \n> \n> Since `weight_lb` doesn't \"remember\" where its value comes from, it is not updated when we change `weight_kg`.\n> \n> \n",
      "metadata": {},
      "cell_type": "markdown",
      "attachments": {
        "fig/python-sticky-note-variables-01.svg": {
          "image/svg+xml": "UTF-8"
        },
        "fig/python-sticky-note-variables-02.svg": {
          "image/svg+xml": "UTF-8"
        },
        "fig/python-sticky-note-variables-03.svg": {
          "image/svg+xml": "UTF-8"
        }
      }
    },
    {
      "source": "## Check Your Understanding  \n\n\nWhat values do the variables `mass` and `age` have after each statement in the following program? Test your answers by executing the commands.  \n\n\n---  \n<span style=\"color:blue\">In [1]:</span>  \n```python\nmass = 47.5  \nage = 122  \nmass = mass * 2.0  \nage = age - 20  \nprint(mass, age)  \n```\n---  \n\n\n<details>  \n<summary><b> Solution</b></summary>  \n\n---  \n<span style=\"color:red\">Out [1]:</span>  \n```None\n95.0 102  \n```\n---  \n\n\n</details>  \n",
      "metadata": {},
      "cell_type": "markdown",
      "attachments": {}
    },
    {
      "source": "## Sorting Out References  \n\n\nWhat does the following program print out?  \n\n\n---  \n<span style=\"color:blue\">In [1]:</span>  \n```python\nfirst, second = 'Grace', 'Hopper'  \nthird, fourth = second, first  \nprint(third, fourth)  \n```\n---  \n\n\n<details>  \n<summary><b> Solution</b></summary>  \n\n---  \n<span style=\"color:red\">Out [1]:</span>  \n```None\nHopper Grace  \n```\n---  \n\n\n</details>  \n",
      "metadata": {},
      "cell_type": "markdown",
      "attachments": {}
    }
  ],
  "nbformat": 4,
  "metadata": {
    "language_info": {
      "mimetype": "text/x-python",
      "version": "3.7.6",
      "name": "python",
      "nbconvert_exporter": "python",
      "codemirror_mode": {
        "version": 3,
        "name": "ipython"
      },
      "file_extension": ".py",
      "pygments_lexer": "ipython3"
    },
    "kernelspec": {
      "display_name": "Python 3",
      "name": "python3",
      "language": "python"
    },
    "toc": {
      "title_cell": "Table of Contents",
      "skip_h1_title": false,
      "nav_menu": {},
      "base_numbering": 1,
      "sideBar": true,
      "number_sections": false,
      "toc_cell": false,
      "toc_postion": {}
    }
  }
}