{
  "nbformat": 4,
  "nbformat_minor": 4,
  "metadata": {
    "kernelspec": {
      "display_name": "Python 3",
      "language": "python",
      "name": "python3"
    },
    "toc": {
      "skip_h1_title": false,
      "nav_menu": {},
      "title_sidebar": "Contents",
      "toc_postion": {},
      "number_sections": false,
      "base_numbering": 1,
      "toc_cell": false,
      "title_cell": "Table of Contents",
      "toc_window_display": true,
      "toc_section_display": true,
      "sideBar": true
    },
    "language_info": {
      "file_extension": ".py",
      "codemirror_mode": {
        "version": 3,
        "name": "ipython"
      },
      "version": "3.7.6",
      "nbconvert_exporter": "python",
      "name": "python",
      "mimetype": "text/x-python",
      "pygments_lexer": "ipython3"
    }
  },
  "cells": [
    {
      "cell_type": "markdown",
      "attachments": {},
      "metadata": {},
      "source": "Adapted from [Software Carpentry](https://swcarpentry.github.io/python-novice-inflammation/07-cond/index.html \"07-cond\")"
    },
    {
      "cell_type": "markdown",
      "attachments": {},
      "metadata": {},
      "source": "---\n\n\n\n\n# Making Choices\n\n\nteaching: 30\n\n\nexercises: 0\n\n\nquestions:\n\n\n- \"How can my programs do different things based on data values?\"\n\n\nobjectives:\n\n\n- \"Write conditional statements including `if`, `elif`, and `else` branches.\"\n- \"Correctly evaluate expressions containing `and` and `or`.\"\n\n\nkeypoints:\n\n\n- \"Use `if condition` to start a conditional statement, `elif condition` to provide additional tests, and `else` to provide a default.\"\n- \"The bodies of the branches of conditional statements must be indented.\"\n- \"Use `==` to test for equality.\"\n- \"`X and Y` is only true if both `X` and `Y` are true.\"\n- \"`X or Y` is true if either `X` or `Y`, or both, are true.\"\n- \"Zero, the empty string, and the empty list are considered false; all other numbers, strings, and lists are considered true.\"\n- \"`True` and `False` represent truth values.\"\n---\n\n\n\n\nIn our last lesson, we discovered something suspicious was going on in our inflammation data by drawing some plots. How can we use Python to automatically recognize the different features we saw, and take a different action for each? In this lesson, we'll learn how to write code that runs only when certain conditions are true.\n\n\n## Conditionals\n\n\nWe can ask Python to take different actions, depending on a condition, with an `if` statement:\n\n\n"
    },
    {
      "cell_type": "code",
      "outputs": [
        {
          "output_type": "execute_result",
          "execution_count": 0,
          "metadata": {},
          "data": {
            "text/plain": "not greater\ndone\n"
          }
        }
      ],
      "execution_count": 0,
      "metadata": {
        "collapsed": true,
        "format": "row",
        "scrolled": false
      },
      "source": "num = 37\nif num > 100:\n    print('greater')\nelse:\n    print('not greater')\nprint('done')"
    },
    {
      "cell_type": "markdown",
      "attachments": {
        "fig/python-flowchart-conditional.png": {
          "image/png": "base64-encoded-png-data"
        }
      },
      "metadata": {},
      "source": "The second line of this code uses the keyword `if` to tell Python that we want to make a choice. If the test that follows the `if` statement is true, the body of the `if` (i.e., the set of lines indented underneath it) is executed, and \"greater\" is printed. If the test is false, the body of the `else` is executed instead, and \"not greater\" is printed. Only one or the other is ever executed before continuing on with program execution to print \"done\":\n\n\n> <img src=fig/python-flowchart-conditional.png>A flowchart diagram of the if-else construct that tests if variable num is greater than 100\n\n\nConditional statements don't have to include an `else`. If there isn't one, Python simply does nothing if the test is false:\n\n\n"
    },
    {
      "cell_type": "code",
      "outputs": [
        {
          "output_type": "execute_result",
          "execution_count": 0,
          "metadata": {},
          "data": {
            "text/plain": "before conditional...\n...after conditional\n"
          }
        }
      ],
      "execution_count": 0,
      "metadata": {
        "collapsed": true,
        "format": "row",
        "scrolled": false
      },
      "source": "num = 53\nprint('before conditional...')\nif num > 100:\n    print(num,' is greater than 100')\nprint('...after conditional')"
    },
    {
      "cell_type": "markdown",
      "attachments": {},
      "metadata": {},
      "source": "We can also chain several tests together using `elif`, which is short for \"else if\". The following Python code uses `elif` to print the sign of a number.\n\n\n"
    },
    {
      "cell_type": "code",
      "outputs": [
        {
          "output_type": "execute_result",
          "execution_count": 0,
          "metadata": {},
          "data": {
            "text/plain": "-3 is negative\n"
          }
        }
      ],
      "execution_count": 0,
      "metadata": {
        "collapsed": true,
        "format": "row",
        "scrolled": false
      },
      "source": "num = -3\n\nif num > 0:\n    print(num, 'is positive')\nelif num == 0:\n    print(num, 'is zero')\nelse:\n    print(num, 'is negative')"
    },
    {
      "cell_type": "markdown",
      "attachments": {},
      "metadata": {},
      "source": "Note that to test for equality we use a double equals sign `==` rather than a single equals sign `=` which is used to assign values.\n\n\nWe can also combine tests using `and` and `or`. `and` is only true if both parts are true:\n\n\n"
    },
    {
      "cell_type": "code",
      "outputs": [
        {
          "output_type": "execute_result",
          "execution_count": 0,
          "metadata": {},
          "data": {
            "text/plain": "at least one part is false\n"
          }
        }
      ],
      "execution_count": 0,
      "metadata": {
        "collapsed": true,
        "format": "row",
        "scrolled": false
      },
      "source": "if (1 > 0) and (-1 > 0):\n    print('both parts are true')\nelse:\n    print('at least one part is false')"
    },
    {
      "cell_type": "markdown",
      "attachments": {},
      "metadata": {},
      "source": "while `or` is true if at least one part is true:\n\n\n"
    },
    {
      "cell_type": "code",
      "outputs": [
        {
          "output_type": "execute_result",
          "execution_count": 0,
          "metadata": {},
          "data": {
            "text/plain": "at least one test is true\n"
          }
        }
      ],
      "execution_count": 0,
      "metadata": {
        "collapsed": true,
        "format": "row",
        "scrolled": false
      },
      "source": "if (1 < 0) or (-1 < 0):\n    print('at least one test is true')"
    },
    {
      "cell_type": "markdown",
      "attachments": {},
      "metadata": {},
      "source": "## `True` and `False`\n\n\n`True` and `False` are special words in Python called `booleans`, which represent truth values. A statement such as `1 < 0` returns the value `False`, while `-1 < 0` returns the value `True`.\n\n\n"
    },
    {
      "cell_type": "markdown",
      "attachments": {},
      "metadata": {},
      "source": "## Checking our Data\n\n\nNow that we've seen how conditionals work, we can use them to check for the suspicious features we saw in our inflammation data. We are about to use functions provided by the `numpy` module again. Therefore, if you're working in a new Python session, make sure to load the module with:\n\n\n"
    },
    {
      "cell_type": "code",
      "outputs": [],
      "execution_count": 0,
      "metadata": {
        "collapsed": true,
        "format": "row",
        "scrolled": false
      },
      "source": "import numpy"
    },
    {
      "cell_type": "markdown",
      "attachments": {},
      "metadata": {},
      "source": "From the first couple of plots, we saw that maximum daily inflammation exhibits a strange behavior and raises one unit a day. Wouldn't it be a good idea to detect such behavior and report it as suspicious? Let's do that! However, instead of checking every single day of the study, let's merely check if maximum inflammation in the beginning (day 0) and in the middle (day 20) of the study are equal to the corresponding day numbers.\n\n\n---\n\n\n<span style=\"color:blue\">In [1]:</span>\n```python\ndata = numpy.loadtxt(fname='data/inflammation-01.csv', delimiter=',')\n\nmax_inflammation_0 = numpy.max(data, axis=0)[0]\nmax_inflammation_20 = numpy.max(data, axis=0)[20]\n\nif max_inflammation_0 == 0 and max_inflammation_20 == 20:\n    print('Suspicious looking maxima!')\n```\n---\n\n\n\n\nWe also saw a different problem in the third dataset; the minima per day were all zero (looks like a healthy person snuck into our study). We can also check for this with an `elif` condition:\n\n\n---\n\n\n<span style=\"color:blue\">In [1]:</span>\n```python\nelif numpy.sum(numpy.min(data, axis=0)) == 0:\n    print('Minima add up to zero!')\n```\n---\n\n\n\n\nAnd if neither of these conditions are true, we can use `else` to give the all-clear:\n\n\n---\n\n\n<span style=\"color:blue\">In [1]:</span>\n```python\nelse:\n    print('Seems OK!')\n```\n---\n\n\n\n\nLet's test that out:\n\n\n"
    },
    {
      "cell_type": "code",
      "outputs": [
        {
          "output_type": "execute_result",
          "execution_count": 0,
          "metadata": {},
          "data": {
            "text/plain": "Suspicious looking maxima!\n"
          }
        }
      ],
      "execution_count": 0,
      "metadata": {
        "collapsed": true,
        "format": "row",
        "scrolled": false
      },
      "source": "data = numpy.loadtxt(fname='data/inflammation-01.csv', delimiter=',')\n\nmax_inflammation_0 = numpy.max(data, axis=0)[0]\nmax_inflammation_20 = numpy.max(data, axis=0)[20]\n\nif max_inflammation_0 == 0 and max_inflammation_20 == 20:\n    print('Suspicious looking maxima!')\nelif numpy.sum(numpy.min(data, axis=0)) == 0:\n    print('Minima add up to zero!')\nelse:\n    print('Seems OK!')"
    },
    {
      "cell_type": "code",
      "outputs": [
        {
          "output_type": "execute_result",
          "execution_count": 0,
          "metadata": {},
          "data": {
            "text/plain": "Minima add up to zero!\n"
          }
        }
      ],
      "execution_count": 0,
      "metadata": {
        "collapsed": true,
        "format": "row",
        "scrolled": false
      },
      "source": "data = numpy.loadtxt(fname='data/inflammation-03.csv', delimiter=',')\n\nmax_inflammation_0 = numpy.max(data, axis=0)[0]\nmax_inflammation_20 = numpy.max(data, axis=0)[20]\n\nif max_inflammation_0 == 0 and max_inflammation_20 == 20:\n    print('Suspicious looking maxima!')\nelif numpy.sum(numpy.min(data, axis=0)) == 0:\n    print('Minima add up to zero!')\nelse:\n    print('Seems OK!')"
    },
    {
      "cell_type": "markdown",
      "attachments": {},
      "metadata": {},
      "source": "In this way, we have asked Python to do something different depending on the condition of our data. Here we printed messages in all cases, but we could also imagine not using the `else` catch-all so that messages are only printed when something is wrong, freeing us from having to manually examine every plot for features we've seen before.\n\n\n"
    },
    {
      "cell_type": "markdown",
      "attachments": {},
      "metadata": {},
      "source": "## How Many Paths?  \n\n\nConsider this code:  \n\n\n---  \n<span style=\"color:blue\">In [1]:</span>  \n```python\nif 4 5:  \n    print('A')  \nelif 4 == 5:  \n    print('B')  \nelif 4 < 5:  \n    print('C')  \n```\n---  \n\n\nWhich of the following would be printed if you were to run this code? Why did you pick this answer?  \n\n\n1.  A  \n2.  B  \n3.  C  \n4.  B and C  \n\n\n<details>  \n<summary><b> Solution</b></summary>  \n\nC gets printed because the first two conditions, `4 > 5` and `4 == 5`, are not true, but `4 < 5` is true.  \n\n\n</details>  \n\n"
    },
    {
      "cell_type": "markdown",
      "attachments": {},
      "metadata": {},
      "source": "## What Is Truth?\n\n\n`True` and `False` booleans are not the only values in Python that are true and false. In fact, *any* value can be used in an `if` or `elif`. After reading and running the code below, explain what the rule is for which values are considered true and which are considered false.\n\n\n"
    },
    {
      "cell_type": "code",
      "outputs": [],
      "execution_count": 0,
      "metadata": {
        "collapsed": true,
        "format": "row",
        "scrolled": false
      },
      "source": "if '':\n    print('empty string is true')\nif 'word':\n    print('word is true')\nif []:\n    print('empty list is true')\nif [1, 2, 3]:\n    print('non-empty list is true')\nif 0:\n    print('zero is true')\nif 1:\n    print('one is true')"
    },
    {
      "cell_type": "markdown",
      "attachments": {},
      "metadata": {},
      "source": "## That's Not Not What I Meant\n\n\nSometimes it is useful to check whether some condition is not true. The Boolean operator `not` can do this explicitly. After reading and running the code below, write some `if` statements that use `not` to test the rule that you formulated in the previous challenge.\n\n\n"
    },
    {
      "cell_type": "code",
      "outputs": [],
      "execution_count": 0,
      "metadata": {
        "collapsed": true,
        "format": "row",
        "scrolled": false
      },
      "source": "if not '':\n    print('empty string is not true')\nif not 'word':\n    print('word is not true')\nif not not True:\n    print('not not True is true')"
    },
    {
      "cell_type": "markdown",
      "attachments": {},
      "metadata": {},
      "source": "## Close Enough  \n\n\nWrite some conditions that print `True` if the variable `a` is within 10% of the variable `b` and `False` otherwise. Compare your implementation with your partner's: do you get the same answer for all possible pairs of numbers?  \n\n\n<details>  \n<summary><b> Hint</b></summary>  \n\nThere is a [built-in function `abs`][abs-function] that returns the absolute value of a number:  \n\n\n---  \n<span style=\"color:blue\">In [1]:</span>  \n```python\nprint(abs(-12))  \n```\n---  \n\n\n---  \n<span style=\"color:red\">Out [1]:</span>  \n```python\n12  \n```\n---  \n\n\n</details>  \n\n<details>  \n<summary><b> Solution 1</b></summary>  \n\n---  \n<span style=\"color:blue\">In [1]:</span>  \n```python\na = 5  \nb = 5.1  \n\nif abs(a - b) <= 0.1 * abs(b):  \nprint('True')  \nelse:  \nprint('False')  \n```\n---  \n\n\n</details>  \n\n<details>  \n<summary><b> Solution 2</b></summary>  \n\n---  \n<span style=\"color:blue\">In [1]:</span>  \n```python\nprint(abs(a - b) <= 0.1 * abs(b))  \n```\n---  \n\n\nThis works because the Booleans `True` and `False` have string representations which can be printed.  \n\n\n</details>  \n\n"
    },
    {
      "cell_type": "markdown",
      "attachments": {},
      "metadata": {},
      "source": "## In-Place Operators\n\n\nPython (and most other languages in the C family) provides <span style=\"color:red\" title=\"\">in-place operators</span> that work like this:\n\n\n"
    },
    {
      "cell_type": "code",
      "outputs": [
        {
          "output_type": "execute_result",
          "execution_count": 0,
          "metadata": {},
          "data": {
            "text/plain": "6\n"
          }
        }
      ],
      "execution_count": 0,
      "metadata": {
        "collapsed": true,
        "format": "row",
        "scrolled": false
      },
      "source": "x = 1  # original value\nx += 1 # add one to x, assigning result back to x\nx *= 3 # multiply x by 3\nprint(x)"
    },
    {
      "cell_type": "markdown",
      "attachments": {},
      "metadata": {},
      "source": "Write some code that sums the positive and negative numbers in a list separately, using in-place operators. Do you think the result is more or less readable than writing the same without in-place operators?  \n\n\n<details>  \n<summary><b> Solution</b></summary>  \n\n---  \n<span style=\"color:blue\">In [1]:</span>  \n```python\npositive_sum = 0  \nnegative_sum = 0  \ntest_list = [3, 4, 6, 1, -1, -5, 0, 7, -8]  \nfor num in test_list:  \nif num > 0:  \npositive_sum += num  \nelif num == 0:  \npass  \nelse:  \nnegative_sum += num  \nprint(positive_sum, negative_sum)  \n```\n---  \n\n\nHere `pass` means \"don't do anything\". In this particular case, it's not actually needed, since if `num == 0` neither sum needs to change, but it illustrates the use of `elif` and `pass`.  \n\n\n</details>  \n\n"
    },
    {
      "cell_type": "markdown",
      "attachments": {},
      "metadata": {},
      "source": "## Sorting a List Into Buckets\n\n\nIn our `data` folder, large data sets are stored in files whose names start with \"inflammation-\" and small data sets -- in files whose names start with \"small-\". We also have some other files that we do not care about at this point. We'd like to break all these files into three lists called `large_files`, `small_files`, and `other_files`, respectively.\n\n\nAdd code to the template below to do this. Note that the string method [`startswith`](https://docs.python.org/3/library/stdtypes.html#str.startswith) returns `True` if and only if the string it is called on starts with the string passed as an argument, that is:\n\n\n"
    },
    {
      "cell_type": "code",
      "outputs": [
        {
          "output_type": "execute_result",
          "execution_count": 0,
          "metadata": {},
          "data": {
            "text/plain": "True\n"
          }
        }
      ],
      "execution_count": 0,
      "metadata": {
        "collapsed": true,
        "format": "row",
        "scrolled": false
      },
      "source": "\"String\".startswith(\"Str\")"
    },
    {
      "cell_type": "markdown",
      "attachments": {},
      "metadata": {},
      "source": "But\n\n\n"
    },
    {
      "cell_type": "code",
      "outputs": [
        {
          "output_type": "execute_result",
          "execution_count": 0,
          "metadata": {},
          "data": {
            "text/plain": "False\n"
          }
        }
      ],
      "execution_count": 0,
      "metadata": {
        "collapsed": true,
        "format": "row",
        "scrolled": false
      },
      "source": "\"String\".startswith(\"str\")"
    },
    {
      "cell_type": "markdown",
      "attachments": {},
      "metadata": {},
      "source": "Use the following Python code as your starting point:\n\n\n"
    },
    {
      "cell_type": "code",
      "outputs": [],
      "execution_count": 0,
      "metadata": {
        "collapsed": true,
        "format": "row",
        "scrolled": false
      },
      "source": "filenames = ['data/inflammation-01.csv',\n         'myscript.py',\n         'data/inflammation-02.csv',\n         'data/small-01.csv',\n         'data/small-02.csv']\nlarge_files = []\nsmall_files = []\nother_files = []"
    },
    {
      "cell_type": "markdown",
      "attachments": {},
      "metadata": {},
      "source": "Your solution should:  \n\n\n1.  loop over the names of the files  \n2.  figure out which group each filename belongs in  \n3.  append the filename to that list  \nIn the end the three lists should be:  \n\n\n---  \n<span style=\"color:blue\">In [1]:</span>  \n```python\nlarge_files = ['data/inflammation-01.csv', 'data/inflammation-02.csv']  \nsmall_files = ['data/small-01.csv', 'data/small-02.csv']  \nother_files = ['myscript.py']  \n```\n---  \n\n\n\n\n<details>  \n<summary><b> Solution</b></summary>  \n\n---  \n<span style=\"color:blue\">In [1]:</span>  \n```python\nfor filename in filenames:  \nif filename.startswith('data/inflammation-'):  \nlarge_files.append(filename)  \nelif filename.startswith('data/small-'):  \nsmall_files.append(filename)  \nelse:  \nother_files.append(filename)  \n\nprint('large_files:', large_files)  \nprint('small_files:', small_files)  \nprint('other_files:', other_files)  \n```\n---  \n\n\n</details>  \n\n"
    },
    {
      "cell_type": "markdown",
      "attachments": {},
      "metadata": {},
      "source": "## Counting Vowels  \n\n\n1. Write a loop that counts the number of vowels in a character string.  \n2. Test it on a few individual words and full sentences.  \n3. Once you are done, compare your solution to your neighbor's. Did you make the same decisions about how to handle the letter 'y' (which some people think is a vowel, and some do not)?  \n\n\n<details>  \n<summary><b> Solution</b></summary>  \n\n---  \n<span style=\"color:blue\">In [1]:</span>  \n```python\nvowels = 'aeiouAEIOU'  \nsentence = 'Mary had a little lamb.'  \ncount = 0  \nfor char in sentence:  \nif char in vowels:  \ncount += 1  \n\nprint(\"The number of vowels in this string is \" + str(count))  \n```\n---  \n\n\n</details>  \n\n"
    },
    {
      "cell_type": "markdown",
      "attachments": {},
      "metadata": {},
      "source": "[abs-function]: https://docs.python.org/3/library/functions.html#abs\n\n\n"
    }
  ]
}