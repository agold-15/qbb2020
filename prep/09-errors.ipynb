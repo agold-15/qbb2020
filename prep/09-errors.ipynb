{
  "cells": [
    {
      "metadata": {},
      "source": "Adapted from [Software Carpentry](https://swcarpentry.github.io/python-novice-inflammation/09-errors/index.html \"09-errors\")",
      "cell_type": "markdown",
      "attachments": {}
    },
    {
      "metadata": {},
      "source": "---\n\n\n\n\n# Errors and Exceptions\n\n\nteaching: 30\n\n\nexercises: 0\n\n\nquestions:\n\n\n- \"How does Python report errors?\"\n- \"How can I handle errors in Python programs?\"\n\n\nobjectives:\n\n\n- \"To be able to read a traceback, and determine where the error took place and what type it is.\"\n- \"To be able to describe the types of situations in which syntax errors, indentation errors, name errors, index errors, and missing file errors occur.\"\n\n\nkeypoints:\n\n\n- \"Tracebacks can look intimidating, but they give us a lot of useful information about what went wrong in our program, including where the error occurred and what type of error it was.\"\n- \"An error having to do with the 'grammar' or syntax of the program is called a `SyntaxError`. If the issue has to do with how the code is indented, then it will be called an `IndentationError`.\"\n- \"A `NameError` will occur when trying to use a variable that does not exist. Possible causes are that a variable definition is missing, a variable reference differs from its definition in spelling or capitalization, or the code contains a string that is missing quotes around it.\"\n- \"Containers like lists and strings will generate errors if you try to access items in them that do not exist. This type of error is called an `IndexError`.\"\n- \"Trying to read a file that does not exist will give you an `FileNotFoundError`. Trying to read a file that is open for writing, or writing to a file that is open for reading, will give you an `IOError`.\"\n---\n\n\n\n\nEvery programmer encounters errors, both those who are just beginning, and those who have been programming for years. Encountering errors and exceptions can be very frustrating at times, and can make coding feel like a hopeless endeavour. However, understanding what the different types of errors are and when you are likely to encounter them can help a lot. Once you know *why* you get certain types of errors, they become much easier to fix.\n\n\nErrors in Python have a very specific form, called a <span style=\"color:red\" title=\"The sequence of function calls that led to an error.\">traceback</span>. Let's examine one:\n\n\n",
      "cell_type": "markdown",
      "attachments": {}
    },
    {
      "metadata": {
        "format": "row",
        "scrolled": false,
        "collapsed": true
      },
      "outputs": [
        {
          "text": "---------------------------------------------------------------------------\nIndexError                                Traceback (most recent call last)\n<ipython-input-1-70bd89baa4df> in <module>()\n      6     print(ice_creams[3])\n      7\n----> 8 favorite_ice_cream()\n\n<ipython-input-1-70bd89baa4df> in favorite_ice_cream()\n      4         \"vanilla\",                                                                    \"strawberry\"\n      5     ]\n----> 6     print(ice_creams[3])\n      7\n      8 favorite_ice_cream()\n\nIndexError: list index out of range\n",
          "output_type": "stream",
          "name": "stdout"
        }
      ],
      "cell_type": "code",
      "source": "# This code has an intentional error. You can type it directly or\n# use it for reference to understand the error message below.\ndef favorite_ice_cream():\n    ice_creams = [\n        \"chocolate\",\n        \"vanilla\",\n        \"strawberry\"\n    ]\n    print(ice_creams[3])\n\nfavorite_ice_cream()",
      "execution_count": null
    },
    {
      "metadata": {},
      "source": "This particular traceback has two levels. You can determine the number of levels by looking for the number of arrows on the left hand side. In this case:\n\n\n1.  The first shows code from the cell above, with an arrow pointing to Line 8 (which is `favorite_ice_cream()`).\n\n2.  The second shows some code in the function `favorite_ice_cream`, with an arrow pointing to Line 6 (which is `print(ice_creams[3])`).\n\nThe last level is the actual place where the error occurred. The other level(s) show what function the program executed to get to the next level down. So, in this case, the program first performed a <span style=\"color:red\" title=\"A use of a function in another piece of software.\">function call</span> to the function `favorite_ice_cream`. Inside this function, the program encountered an error on Line 6, when it tried to run the code `print(ice_creams[3])`.\n\n\n",
      "cell_type": "markdown",
      "attachments": {}
    },
    {
      "metadata": {},
      "source": "## Long Tracebacks\n\n\nSometimes, you might see a traceback that is very long -- sometimes they might even be 20 levels deep! This can make it seem like something horrible happened, but the length of the error message does not reflect severity, rather, it indicates that your program called many functions before it encountered the error. Most of the time, the actual place where the error occurred is at the bottom-most level, so you can skip down the traceback to the bottom.\n\n\n",
      "cell_type": "markdown",
      "attachments": {}
    },
    {
      "metadata": {},
      "source": "So what error did the program actually encounter? In the last line of the traceback, Python helpfully tells us the category or type of error (in this case, it is an `IndexError`) and a more detailed error message (in this case, it says \"list index out of range\").\n\n\nIf you encounter an error and don't know what it means, it is still important to read the traceback closely. That way, if you fix the error, but encounter a new one, you can tell that the error changed. Additionally, sometimes knowing *where* the error occurred is enough to fix it, even if you don't entirely understand the message.\n\n\nIf you do encounter an error you don't recognize, try looking at the [official documentation on errors](http://docs.python.org/3/library/exceptions.html). However, note that you may not always be able to find the error there, as it is possible to create custom errors. In that case, hopefully the custom error message is informative enough to help you figure out what went wrong.\n\n\n## Syntax Errors\n\n\nWhen you forget a colon at the end of a line, accidentally add one space too many when indenting under an `if` statement, or forget a parenthesis, you will encounter a <span style=\"color:red\" title=\"A programming error that occurs when statements are in an order or contain characters not expected by the programming language.\">syntax error</span>. This means that Python couldn't figure out how to read your program. This is similar to forgetting punctuation in English: for example, this text is difficult to read there is no punctuation there is also no capitalization why is this hard because you have to figure out where each sentence ends you also have to figure out where each sentence begins to some extent it might be ambiguous if there should be a sentence break or not\n\n\nPeople can typically figure out what is meant by text with no punctuation, but people are much smarter than computers. If Python doesn't know how to read the program, it will give up and inform you with an error. For example:\n\n\n",
      "cell_type": "markdown",
      "attachments": {}
    },
    {
      "metadata": {
        "format": "row",
        "scrolled": false,
        "collapsed": true
      },
      "outputs": [
        {
          "text": "  File \"<ipython-input-3-6bb841ea1423>\", line 1\n    def some_function()\n                       ^\nSyntaxError: invalid syntax\n",
          "output_type": "stream",
          "name": "stdout"
        }
      ],
      "cell_type": "code",
      "source": "def some_function()\n    msg = \"hello, world!\"\n    print(msg)\n     return msg",
      "execution_count": null
    },
    {
      "metadata": {},
      "source": "Here, Python tells us that there is a `SyntaxError` on line 1, and even puts a little arrow in the place where there is an issue. In this case the problem is that the function definition is missing a colon at the end.\n\n\nActually, the function above has *two* issues with syntax. If we fix the problem with the colon, we see that there is *also* an `IndentationError`, which means that the lines in the function definition do not all have the same indentation:\n\n\n",
      "cell_type": "markdown",
      "attachments": {}
    },
    {
      "metadata": {
        "format": "row",
        "scrolled": false,
        "collapsed": true
      },
      "outputs": [
        {
          "text": "  File \"<ipython-input-4-ae290e7659cb>\", line 4\n    return msg\n    ^\nIndentationError: unexpected indent\n",
          "output_type": "stream",
          "name": "stdout"
        }
      ],
      "cell_type": "code",
      "source": "def some_function():\n    msg = \"hello, world!\"\n    print(msg)\n     return msg",
      "execution_count": null
    },
    {
      "metadata": {},
      "source": "Both `SyntaxError` and `IndentationError` indicate a problem with the syntax of your program, but an `IndentationError` is more specific: it *always* means that there is a problem with how your code is indented.\n\n\n",
      "cell_type": "markdown",
      "attachments": {}
    },
    {
      "metadata": {},
      "source": "## Tabs and Spaces\n\n\nSome indentation errors are harder to spot than others. In particular, mixing spaces and tabs can be difficult to spot because they are both <span style=\"color:red\" title=\"\">whitespace</span>. In the example below, the first two lines in the body of the function `some_function` are indented with tabs, while the third line &mdash; with spaces. If you're working in a Jupyter notebook, be sure to copy and paste this example rather than trying to type it in manually because Jupyter automatically replaces tabs with spaces.\n\n\n",
      "cell_type": "markdown",
      "attachments": {}
    },
    {
      "metadata": {
        "format": "row",
        "scrolled": false,
        "collapsed": true
      },
      "outputs": [
        {
          "text": "  File \"<ipython-input-5-653b36fbcd41>\", line 4\n    return msg\n              ^\nTabError: inconsistent use of tabs and spaces in indentation\n",
          "output_type": "stream",
          "name": "stdout"
        }
      ],
      "cell_type": "code",
      "source": "def some_function():\n\tmsg = \"hello, world!\"\n\tprint(msg)\n        return msg",
      "execution_count": null
    },
    {
      "metadata": {},
      "source": "## Variable Name Errors\n\n\nAnother very common type of error is called a `NameError`, and occurs when you try to use a variable that does not exist. For example:\n\n\n",
      "cell_type": "markdown",
      "attachments": {}
    },
    {
      "metadata": {
        "format": "row",
        "scrolled": false,
        "collapsed": true
      },
      "outputs": [
        {
          "text": "---------------------------------------------------------------------------\nNameError                                 Traceback (most recent call last)\n<ipython-input-7-9d7b17ad5387> in <module>()\n----> 1 print(a)\n\nNameError: name 'a' is not defined\n",
          "output_type": "stream",
          "name": "stdout"
        }
      ],
      "cell_type": "code",
      "source": "print(a)",
      "execution_count": null
    },
    {
      "metadata": {},
      "source": "Variable name errors come with some of the most informative error messages, which are usually of the form \"name 'the_variable_name' is not defined\".\n\n\nWhy does this error message occur? That's a harder question to answer, because it depends on what your code is supposed to do. However, there are a few very common reasons why you might have an undefined variable. The first is that you meant to use a <span style=\"color:red\" title=\"Short for 'character string', a sequence of zero or more characters.\">string</span>, but forgot to put quotes around it:\n\n\n",
      "cell_type": "markdown",
      "attachments": {}
    },
    {
      "metadata": {
        "format": "row",
        "scrolled": false,
        "collapsed": true
      },
      "outputs": [
        {
          "text": "---------------------------------------------------------------------------\nNameError                                 Traceback (most recent call last)\n<ipython-input-8-9553ee03b645> in <module>()\n----> 1 print(hello)\n\nNameError: name 'hello' is not defined\n",
          "output_type": "stream",
          "name": "stdout"
        }
      ],
      "cell_type": "code",
      "source": "print(hello)",
      "execution_count": null
    },
    {
      "metadata": {},
      "source": "The second reason is that you might be trying to use a variable that does not yet exist. In the following example, `count` should have been defined (e.g., with `count = 0`) before the for loop:\n\n\n",
      "cell_type": "markdown",
      "attachments": {}
    },
    {
      "metadata": {
        "format": "row",
        "scrolled": false,
        "collapsed": true
      },
      "outputs": [
        {
          "text": "---------------------------------------------------------------------------\nNameError                                 Traceback (most recent call last)\n<ipython-input-9-dd6a12d7ca5c> in <module>()\n      1 for number in range(10):\n----> 2     count = count + number\n      3 print(\"The count is:\", count)\n\nNameError: name 'count' is not defined\n",
          "output_type": "stream",
          "name": "stdout"
        }
      ],
      "cell_type": "code",
      "source": "for number in range(10):\n    count = count + number\nprint(\"The count is:\", count)",
      "execution_count": null
    },
    {
      "metadata": {},
      "source": "Finally, the third possibility is that you made a typo when you were writing your code. Let's say we fixed the error above by adding the line `Count = 0` before the for loop. Frustratingly, this actually does not fix the error. Remember that variables are <span style=\"color:red\" title=\"Treating text as if upper and lower case characters of the same letter are different. See also: case-insensitive.\">case-sensitive</span>, so the variable `count` is different from `Count`. We still get the same error, because we still have not defined `count`:\n\n\n",
      "cell_type": "markdown",
      "attachments": {}
    },
    {
      "metadata": {
        "format": "row",
        "scrolled": false,
        "collapsed": true
      },
      "outputs": [
        {
          "text": "---------------------------------------------------------------------------\nNameError                                 Traceback (most recent call last)\n<ipython-input-10-d77d40059aea> in <module>()\n      1 Count = 0\n      2 for number in range(10):\n----> 3     count = count + number\n      4 print(\"The count is:\", count)\n\nNameError: name 'count' is not defined\n",
          "output_type": "stream",
          "name": "stdout"
        }
      ],
      "cell_type": "code",
      "source": "Count = 0\nfor number in range(10):\n    count = count + number\nprint(\"The count is:\", count)",
      "execution_count": null
    },
    {
      "metadata": {},
      "source": "## Index Errors\n\n\nNext up are errors having to do with containers (like lists and strings) and the items within them. If you try to access an item in a list or a string that does not exist, then you will get an error. This makes sense: if you asked someone what day they would like to get coffee, and they answered \"caturday\", you might be a bit annoyed. Python gets similarly annoyed if you try to ask it for an item that doesn't exist:\n\n\n",
      "cell_type": "markdown",
      "attachments": {}
    },
    {
      "metadata": {
        "format": "row",
        "scrolled": false,
        "collapsed": true
      },
      "outputs": [
        {
          "text": "Letter #1 is a\nLetter #2 is b\nLetter #3 is c\n---------------------------------------------------------------------------\nIndexError                                Traceback (most recent call last)\n<ipython-input-11-d817f55b7d6c> in <module>()\n      3 print(\"Letter #2 is\", letters[1])\n      4 print(\"Letter #3 is\", letters[2])\n----> 5 print(\"Letter #4 is\", letters[3])\n\nIndexError: list index out of range\n",
          "output_type": "stream",
          "name": "stdout"
        }
      ],
      "cell_type": "code",
      "source": "letters = ['a', 'b', 'c']\nprint(\"Letter #1 is\", letters[0])\nprint(\"Letter #2 is\", letters[1])\nprint(\"Letter #3 is\", letters[2])\nprint(\"Letter #4 is\", letters[3])",
      "execution_count": null
    },
    {
      "metadata": {},
      "source": "Here, Python is telling us that there is an `IndexError` in our code, meaning we tried to access a list index that did not exist.\n\n\n## File Errors\n\n\nThe last type of error we'll cover today are those associated with reading and writing files: `FileNotFoundError`. If you try to read a file that does not exist, you will receive a `FileNotFoundError` telling you so. If you attempt to write to a file that was opened read-only, Python 3 returns an `UnsupportedOperationError`. More generally, problems with input and output manifest as `IOError`s or `OSError`s, depending on the version of Python you use.\n\n\n",
      "cell_type": "markdown",
      "attachments": {}
    },
    {
      "metadata": {
        "format": "row",
        "scrolled": false,
        "collapsed": true
      },
      "outputs": [
        {
          "text": "---------------------------------------------------------------------------\nFileNotFoundError                         Traceback (most recent call last)\n<ipython-input-14-f6e1ac4aee96> in <module>()\n----> 1 file_handle = open('myfile.txt', 'r')\n\nFileNotFoundError: [Errno 2] No such file or directory: 'myfile.txt'\n",
          "output_type": "stream",
          "name": "stdout"
        }
      ],
      "cell_type": "code",
      "source": "file_handle = open('myfile.txt', 'r')",
      "execution_count": null
    },
    {
      "metadata": {},
      "source": "One reason for receiving this error is that you specified an incorrect path to the file. For example, if I am currently in a folder called `myproject`, and I have a file in `myproject/writing/myfile.txt`, but I try to open `myfile.txt`, this will fail. The correct path would be `writing/myfile.txt`. It is also possible that the file name or its path contains a typo.\n\n\nA related issue can occur if you use the \"read\" flag instead of the \"write\" flag. Python will not give you an error if you try to open a file for writing when the file does not exist. However, if you meant to open a file for reading, but accidentally opened it for writing, and then try to read from it, you will get an `UnsupportedOperation` error telling you that the file was not opened for reading:\n\n\n",
      "cell_type": "markdown",
      "attachments": {}
    },
    {
      "metadata": {
        "format": "row",
        "scrolled": false,
        "collapsed": true
      },
      "outputs": [
        {
          "text": "---------------------------------------------------------------------------\nUnsupportedOperation                      Traceback (most recent call last)\n<ipython-input-15-b846479bc61f> in <module>()\n      1 file_handle = open('myfile.txt', 'w')\n----> 2 file_handle.read()\n\nUnsupportedOperation: not readable\n",
          "output_type": "stream",
          "name": "stdout"
        }
      ],
      "cell_type": "code",
      "source": "file_handle = open('myfile.txt', 'w')\nfile_handle.read()",
      "execution_count": null
    },
    {
      "metadata": {},
      "source": "These are the most common errors with files, though many others exist. If you get an error that you've never seen before, searching the Internet for that error type often reveals common reasons why you might get that error.\n\n\n## Reading Error Messages\n\n\nRead the Python code and the resulting traceback below, and answer the following questions:\n\n\n1.  How many levels does the traceback have?\n\n2.  What is the function name where the error occurred?\n\n3.  On which line number in this function did the error occur?\n\n4.  What is the type of error?\n\n5.  What is the error message?\n\n",
      "cell_type": "markdown",
      "attachments": {}
    },
    {
      "metadata": {
        "format": "row",
        "scrolled": false,
        "collapsed": true
      },
      "outputs": [
        {
          "text": "---------------------------------------------------------------------------\nKeyError                                  Traceback (most recent call last)\n<ipython-input-1-4be1945adbe2> in <module>()\n     14     print_message(\"Friday\")\n     15\n---> 16 print_friday_message()\n\n<ipython-input-1-4be1945adbe2> in print_friday_message()\n     12\n     13 def print_friday_message():\n---> 14     print_message(\"Friday\")\n     15\n     16 print_friday_message()\n\n<ipython-input-1-4be1945adbe2> in print_message(day)\n      9         \"sunday\": \"Aw, the weekend is almost over.\"\n     10     }\n---> 11     print(messages[day])\n     12\n     13 def print_friday_message():\n\nKeyError: 'Friday'\n",
          "output_type": "stream",
          "name": "stdout"
        }
      ],
      "cell_type": "code",
      "source": "# This code has an intentional error. Do not type it directly;\n# use it for reference to understand the error message below.\ndef print_message(day):\n    messages = {\n        \"monday\": \"Hello, world!\",\n        \"tuesday\": \"Today is Tuesday!\",\n        \"wednesday\": \"It is the middle of the week.\",\n        \"thursday\": \"Today is Donnerstag in German!\",\n        \"friday\": \"Last day of the week!\",\n        \"saturday\": \"Hooray for the weekend!\",\n        \"sunday\": \"Aw, the weekend is almost over.\"\n    }\n    print(messages[day])\n\ndef print_friday_message():\n    print_message(\"Friday\")\n\nprint_friday_message()",
      "execution_count": null
    },
    {
      "metadata": {},
      "source": "<details>  \n<summary><b> Solution</b></summary>  \n\n1. 3 levels  \n\n2. `print_message`  \n\n3. 11  \n\n4. `KeyError`  \n\n5. There isn't really a message; you're supposed to infer that `Friday` is not a key in `messages`.  \n\n</details>  \n\n",
      "cell_type": "markdown",
      "attachments": {}
    },
    {
      "metadata": {},
      "source": "## Identifying Syntax Errors\n\n\n1. Read the code below, and (without running it) try to identify what the errors are.\n\n2. Run the code, and read the error message. Is it a `SyntaxError` or an `IndentationError`?\n\n3. Fix the error.\n\n4. Repeat steps 2 and 3, until you have fixed all the errors.\n\n",
      "cell_type": "markdown",
      "attachments": {}
    },
    {
      "metadata": {
        "format": "row",
        "scrolled": false,
        "collapsed": true
      },
      "outputs": [],
      "cell_type": "code",
      "source": "def another_function\n  print(\"Syntax errors are annoying.\")\n   print(\"But at least Python tells us about them!\")\n  print(\"So they are usually not too hard to fix.\")",
      "execution_count": null
    },
    {
      "metadata": {},
      "source": "<details>  \n<summary><b> Solution</b></summary>  \n\n`SyntaxError` for missing `():` at end of first line, `IndentationError` for mismatch between second and third lines. A fixed version is:  \n\n\n---  \n<span style=\"color:blue\">In [1]:</span>  \n```python\ndef another_function():  \nprint(\"Syntax errors are annoying.\")  \nprint(\"But at least Python tells us about them!\")  \nprint(\"So they are usually not too hard to fix.\")  \n```\n---  \n\n\n</details>  \n\n",
      "cell_type": "markdown",
      "attachments": {}
    },
    {
      "metadata": {},
      "source": "## Identifying Variable Name Errors\n\n\n1. Read the code below, and (without running it) try to identify what the errors are.\n\n2. Run the code, and read the error message. What type of `NameError` do you think this is? In other words, is it a string with no quotes, a misspelled variable, or a variable that should have been defined but was not?\n\n3. Fix the error.\n\n4. Repeat steps 2 and 3, until you have fixed all the errors.\n\n",
      "cell_type": "markdown",
      "attachments": {}
    },
    {
      "metadata": {
        "format": "row",
        "scrolled": false,
        "collapsed": true
      },
      "outputs": [],
      "cell_type": "code",
      "source": "for number in range(10):\n    # use a if the number is a multiple of 3, otherwise use b\n    if (Number % 3) == 0:\n        message = message + a\n    else:\n        message = message + \"b\"\nprint(message)",
      "execution_count": null
    },
    {
      "metadata": {},
      "source": "<details>  \n<summary><b> Solution</b></summary>  \n\n3 `NameError`s for `number` being misspelled, for `message` not defined, and for `a` not being in quotes.  \n\nFixed version:  \n\n\n---  \n<span style=\"color:blue\">In [1]:</span>  \n```python\nmessage = \"\"  \nfor number in range(10):  \n# use a if the number is a multiple of 3, otherwise use b  \nif (number % 3) == 0:  \nmessage = message + \"a\"  \nelse:  \nmessage = message + \"b\"  \nprint(message)  \n```\n---  \n\n\n</details>  \n\n",
      "cell_type": "markdown",
      "attachments": {}
    },
    {
      "metadata": {},
      "source": "## Identifying Index Errors\n\n\n1. Read the code below, and (without running it) try to identify what the errors are.\n\n2. Run the code, and read the error message. What type of error is it?\n\n3. Fix the error.\n\n",
      "cell_type": "markdown",
      "attachments": {}
    },
    {
      "metadata": {
        "format": "row",
        "scrolled": false,
        "collapsed": true
      },
      "outputs": [],
      "cell_type": "code",
      "source": "seasons = ['Spring', 'Summer', 'Fall', 'Winter']\nprint('My favorite season is ', seasons[4])",
      "execution_count": null
    },
    {
      "metadata": {},
      "source": "<details>  \n<summary><b> Solution</b></summary>  \n\n`IndexError`; the last entry is `seasons[3]`, so `seasons[4]` doesn't make sense. A fixed version is:  \n\n\n---  \n<span style=\"color:blue\">In [1]:</span>  \n```python\nseasons = ['Spring', 'Summer', 'Fall', 'Winter']  \nprint('My favorite season is ', seasons[-1])  \n```\n---  \n\n\n</details>  \n\n",
      "cell_type": "markdown",
      "attachments": {}
    }
  ],
  "metadata": {
    "toc": {
      "base_numbering": 1,
      "toc_section_display": true,
      "toc_cell": false,
      "toc_postion": {},
      "title_cell": "Table of Contents",
      "title_sidebar": "Contents",
      "skip_h1_title": false,
      "sideBar": true,
      "nav_menu": {},
      "toc_window_display": true,
      "number_sections": false
    },
    "language_info": {
      "file_extension": ".py",
      "name": "python",
      "pygments_lexer": "ipython3",
      "mimetype": "text/x-python",
      "nbconvert_exporter": "python",
      "version": "3.7.6",
      "codemirror_mode": {
        "version": 3,
        "name": "ipython"
      }
    },
    "kernelspec": {
      "display_name": "Python 3",
      "name": "python3",
      "language": "python"
    }
  },
  "nbformat": 4,
  "nbformat_minor": 4
}