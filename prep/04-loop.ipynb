{
  "nbformat": 4,
  "nbformat_minor": 4,
  "metadata": {
    "toc": {
      "number_sections": false,
      "base_numbering": 1,
      "title_sidebar": "Contents",
      "sideBar": true,
      "nav_menu": {},
      "title_cell": "Table of Contents",
      "toc_postion": {},
      "skip_h1_title": false,
      "toc_window_display": true,
      "toc_cell": false,
      "toc_section_display": true
    },
    "language_info": {
      "nbconvert_exporter": "python",
      "codemirror_mode": {
        "version": 3,
        "name": "ipython"
      },
      "version": "3.7.6",
      "pygments_lexer": "ipython3",
      "mimetype": "text/x-python",
      "file_extension": ".py",
      "name": "python"
    },
    "kernelspec": {
      "name": "python3",
      "display_name": "Python 3",
      "language": "python"
    }
  },
  "cells": [
    {
      "source": "Adapted from [Software Carpentry](https://swcarpentry.github.io/python-novice-inflammation/04-loop/index.html \"04-loop\")",
      "attachments": {},
      "metadata": {},
      "cell_type": "markdown"
    },
    {
      "source": "---\n\n\n\n\n# Repeating Actions with Loops\n\n\nteaching: 30\n\n\nexercises: 0\n\n\nquestions:\n\n\n- \"How can I do the same operations on many different values?\"\n\n\nobjectives:\n\n\n- \"Explain what a `for` loop does.\"\n- \"Correctly write `for` loops to repeat simple calculations.\"\n- \"Trace changes to a loop variable as the loop runs.\"\n- \"Trace changes to other variables as they are updated by a `for` loop.\"\n\n\nkeypoints:\n\n\n- \"Use `for variable in sequence` to process the elements of a sequence one at a time.\"\n- \"The body of a `for` loop must be indented.\"\n- \"Use `len(thing)` to determine the length of something that contains other values.\"\n---\n\n\n\n\nIn the last episode, we wrote Python code that plots values of interest from our first inflammation dataset (`inflammation-01.csv`), which revealed some suspicious features in it.\n\n\n> <img src=fig/03-loop_2_0.png>Analysis of inflammation-01.csv\n\n\nWe have a dozen data sets right now, though, and more on the way. We want to create plots for all of our data sets with a single statement. To do that, we'll have to teach the computer how to repeat things.\n\n\nAn example task that we might want to repeat is printing each character in a word on a line of its own.\n\n\n",
      "attachments": {
        "fig/03-loop_2_0.png": {
          "image/png": "base64-encoded-png-data"
        }
      },
      "metadata": {},
      "cell_type": "markdown"
    },
    {
      "source": "word = 'lead'",
      "metadata": {
        "format": "row",
        "collapsed": true,
        "scrolled": false
      },
      "execution_count": 0,
      "outputs": [],
      "cell_type": "code"
    },
    {
      "source": "In Python, a string is basically an ordered collection of characters, and every character has a unique number associated with it -- its index. This means that we can access characters in a string using their indices. For example, we can get the first character of the word `'lead'`, by using `word[0]`. One way to print each character is to use four `print` statements:\n\n\n",
      "attachments": {},
      "metadata": {},
      "cell_type": "markdown"
    },
    {
      "source": "print(word[0])\nprint(word[1])\nprint(word[2])\nprint(word[3])",
      "metadata": {
        "format": "row",
        "collapsed": true,
        "scrolled": false
      },
      "execution_count": 0,
      "outputs": [
        {
          "data": {
            "text/plain": "l\ne\na\nd\n"
          },
          "output_type": "execute_result",
          "metadata": {},
          "execution_count": 0
        }
      ],
      "cell_type": "code"
    },
    {
      "source": "This is a bad approach for three reasons:\n\n\n1.  **Not scalable**. Imagine you need to print characters of a string that is hundreds of letters long.  It might be easier to type them in manually.\n2.  **Difficult to maintain**. If we want to decorate each printed character with an asterisk or any other character, we would have to change four lines of code. While this might not be a problem for short strings, it would definitely be a problem for longer ones.\n3.  **Fragile**. If we use it with a word that has more characters than what we initially envisioned, it will only display part of the word's characters. A shorter string, on the other hand, will cause an error because it will be trying to display part of the string that doesn't exist.\n",
      "attachments": {},
      "metadata": {},
      "cell_type": "markdown"
    },
    {
      "source": "word = 'tin'\nprint(word[0])\nprint(word[1])\nprint(word[2])\nprint(word[3])",
      "metadata": {
        "format": "row",
        "collapsed": true,
        "scrolled": false
      },
      "execution_count": 0,
      "outputs": [
        {
          "data": {
            "text/plain": "t\ni\nn\n---------------------------------------------------------------------------\nIndexError                                Traceback (most recent call last)\n<ipython-input-3-7974b6cdaf14> in <module>()\n      3 print(word[1])\n      4 print(word[2])\n----> 5 print(word[3])\n\nIndexError: string index out of range\n"
          },
          "output_type": "execute_result",
          "metadata": {},
          "execution_count": 0
        }
      ],
      "cell_type": "code"
    },
    {
      "source": "Here's a better approach:\n\n\n",
      "attachments": {},
      "metadata": {},
      "cell_type": "markdown"
    },
    {
      "source": "word = 'lead'\nfor char in word:\n    print(char)\n",
      "metadata": {
        "format": "row",
        "collapsed": true,
        "scrolled": false
      },
      "execution_count": 0,
      "outputs": [
        {
          "data": {
            "text/plain": "l\ne\na\nd\n"
          },
          "output_type": "execute_result",
          "metadata": {},
          "execution_count": 0
        }
      ],
      "cell_type": "code"
    },
    {
      "source": "This is shorter --- certainly shorter than something that prints every character in a hundred-letter string --- and more robust as well:\n\n\n",
      "attachments": {},
      "metadata": {},
      "cell_type": "markdown"
    },
    {
      "source": "word = 'oxygen'\nfor char in word:\n    print(char)",
      "metadata": {
        "format": "row",
        "collapsed": true,
        "scrolled": false
      },
      "execution_count": 0,
      "outputs": [
        {
          "data": {
            "text/plain": "o\nx\ny\ng\ne\nn\n"
          },
          "output_type": "execute_result",
          "metadata": {},
          "execution_count": 0
        }
      ],
      "cell_type": "code"
    },
    {
      "source": "The improved version uses a <span style=\"color:red\" title=\"A loop that is executed once for each value in some kind of set, list, or range. See also: while loop.\">for loop</span> to repeat an operation --- in this case, printing --- once for each thing in a sequence. The general form of a loop is:\n\n\n",
      "attachments": {},
      "metadata": {},
      "cell_type": "markdown"
    },
    {
      "source": "for variable in collection:\n    # do things using variable, such as print",
      "metadata": {
        "format": "row",
        "collapsed": true,
        "scrolled": false
      },
      "execution_count": 0,
      "outputs": [],
      "cell_type": "code"
    },
    {
      "source": "Using the oxygen example above, the loop might look like this:\n\n\n![](fig/loops_image.png)\n\n\nwhere each character (`char`) in the variable `word` is looped through and printed one character after another. The numbers in the diagram denote which loop cycle the character was printed in (1 being the first loop, and 6 being the final loop).\n\n\nWe can call the <span style=\"color:red\" title=\"The variable that keeps track of the progress of the loop.\">loop variable</span> anything we like, but there must be a colon at the end of the line starting the loop, and we must indent anything we want to run inside the loop. Unlike many other languages, there is no command to signify the end of the loop body (e.g. `end for`); what is indented after the `for` statement belongs to the loop.\n\n\n",
      "attachments": {},
      "metadata": {},
      "cell_type": "markdown"
    },
    {
      "source": "## What's in a name?\n\n\nIn the example above, the loop variable was given the name `char` as a mnemonic; it is short for 'character'.  We can choose any name we want for variables. We can even call our loop variable `banana`, as long as we use this name consistently:\n\n\n",
      "attachments": {},
      "metadata": {},
      "cell_type": "markdown"
    },
    {
      "source": "word = 'oxygen'\nfor banana in word:\n    print(banana)",
      "metadata": {
        "format": "row",
        "collapsed": true,
        "scrolled": false
      },
      "execution_count": 0,
      "outputs": [
        {
          "data": {
            "text/plain": "o\nx\ny\ng\ne\nn\n"
          },
          "output_type": "execute_result",
          "metadata": {},
          "execution_count": 0
        }
      ],
      "cell_type": "code"
    },
    {
      "source": "It is a good idea to choose variable names that are meaningful, otherwise it would be more difficult to understand what the loop is doing.\n\n\n",
      "attachments": {},
      "metadata": {},
      "cell_type": "markdown"
    },
    {
      "source": "Here's another loop that repeatedly updates a variable:\n\n\n",
      "attachments": {},
      "metadata": {},
      "cell_type": "markdown"
    },
    {
      "source": "length = 0\nfor vowel in 'aeiou':\n    length = length + 1\nprint('There are', length, 'vowels')",
      "metadata": {
        "format": "row",
        "collapsed": true,
        "scrolled": false
      },
      "execution_count": 0,
      "outputs": [
        {
          "data": {
            "text/plain": "There are 5 vowels\n"
          },
          "output_type": "execute_result",
          "metadata": {},
          "execution_count": 0
        }
      ],
      "cell_type": "code"
    },
    {
      "source": "It's worth tracing the execution of this little program step by step. Since there are five characters in `'aeiou'`, the statement on line 3 will be executed five times. The first time around, `length` is zero (the value assigned to it on line 1) and `vowel` is `'a'`. The statement adds 1 to the old value of `length`, producing 1, and updates `length` to refer to that new value. The next time around, `vowel` is `'e'` and `length` is 1, so `length` is updated to be 2. After three more updates, `length` is 5; since there is nothing left in `'aeiou'` for Python to process, the loop finishes and the `print` statement on line 4 tells us our final answer.\n\n\nNote that a loop variable is a variable that's being used to record progress in a loop. It still exists after the loop is over, and we can re-use variables previously defined as loop variables as well:\n\n\n",
      "attachments": {},
      "metadata": {},
      "cell_type": "markdown"
    },
    {
      "source": "letter = 'z'\nfor letter in 'abc':\n    print(letter)\nprint('after the loop, letter is', letter)",
      "metadata": {
        "format": "row",
        "collapsed": true,
        "scrolled": false
      },
      "execution_count": 0,
      "outputs": [
        {
          "data": {
            "text/plain": "a\nb\nc\nafter the loop, letter is c\n"
          },
          "output_type": "execute_result",
          "metadata": {},
          "execution_count": 0
        }
      ],
      "cell_type": "code"
    },
    {
      "source": "Note also that finding the length of a string is such a common operation that Python actually has a built-in function to do it called `len`:\n\n\n",
      "attachments": {},
      "metadata": {},
      "cell_type": "markdown"
    },
    {
      "source": "print(len('aeiou'))",
      "metadata": {
        "format": "row",
        "collapsed": true,
        "scrolled": false
      },
      "execution_count": 0,
      "outputs": [
        {
          "data": {
            "text/plain": "5\n"
          },
          "output_type": "execute_result",
          "metadata": {},
          "execution_count": 0
        }
      ],
      "cell_type": "code"
    },
    {
      "source": "`len` is much faster than any function we could write ourselves, and much easier to read than a two-line loop; it will also give us the length of many other things that we haven't met yet, so we should always use it when we can.\n\n\n",
      "attachments": {},
      "metadata": {},
      "cell_type": "markdown"
    },
    {
      "source": "## From 1 to N  \n\n\nPython has a built-in function called `range` that generates a sequence of numbers. `range` can accept 1, 2, or 3 parameters.  \n\n\n* If one parameter is given, `range` generates a sequence of that length, starting at zero and incrementing by 1. For example, `range(3)` produces the numbers `0, 1, 2`. * If two parameters are given, `range` starts at the first and ends just before the second, incrementing by one. For example, `range(2, 5)` produces `2, 3, 4`. * If `range` is given 3 parameters, it starts at the first one, ends just before the second one, and increments by the third one. For example, `range(3, 10, 2)` produces `3, 5, 7, 9`.  \n\n\nUsing `range`, write a loop that uses `range` to print the first 3 natural numbers:  \n\n\n---  \n<span style=\"color:red\">Out [1]:</span>  \n```\n1  \n2  \n3  \n```\n---  \n\n\n\n\n<details>  \n<summary><b> Solution</b></summary>  \n\n---  \n<span style=\"color:blue\">In [1]:</span>  \n```python\nfor number in range(1, 4):  \nprint(number)  \n```\n---  \n\n\n</details>  \n\n",
      "attachments": {},
      "metadata": {},
      "cell_type": "markdown"
    },
    {
      "source": "## Understanding the loops  \n\n\nGiven the following loop:  \n\n\n---  \n<span style=\"color:blue\">In [1]:</span>  \n```python\nword = 'oxygen'  \nfor char in word:  \n    print(char)  \n```\n---  \n\n\nHow many times is the body of the loop executed?  \n\n\n- 3 times  \n- 4 times  \n- 5 times  \n- 6 times  \n\n\n<details>  \n<summary><b> Solution</b></summary>  \n\nThe body of the loop is executed 6 times.  \n\n\n</details>  \n\n",
      "attachments": {},
      "metadata": {},
      "cell_type": "markdown"
    },
    {
      "source": "## Computing Powers With Loops\n\n\nExponentiation is built into Python:\n\n\n",
      "attachments": {},
      "metadata": {},
      "cell_type": "markdown"
    },
    {
      "source": "print(5 ** 3)",
      "metadata": {
        "format": "row",
        "collapsed": true,
        "scrolled": false
      },
      "execution_count": 0,
      "outputs": [
        {
          "data": {
            "text/plain": "125\n"
          },
          "output_type": "execute_result",
          "metadata": {},
          "execution_count": 0
        }
      ],
      "cell_type": "code"
    },
    {
      "source": "Write a loop that calculates the same result as `5 ** 3` using multiplication (and without exponentiation).  \n\n\n<details>  \n<summary><b> Solution</b></summary>  \n\n---  \n<span style=\"color:blue\">In [1]:</span>  \n```python\nresult = 1  \nfor number in range(0, 3):  \nresult = result * 5  \nprint(result)  \n```\n---  \n\n\n</details>  \n\n",
      "attachments": {},
      "metadata": {},
      "cell_type": "markdown"
    },
    {
      "source": "## Reverse a String  \n\n\nKnowing that two strings can be concatenated using the `+` operator, write a loop that takes a string and produces a new string with the characters in reverse order, so `'Newton'` becomes `'notweN'`.  \n\n\n<details>  \n<summary><b> Solution</b></summary>  \n\n---  \n<span style=\"color:blue\">In [1]:</span>  \n```python\nnewstring = ''  \noldstring = 'Newton'  \nfor char in oldstring:  \nnewstring = char + newstring  \nprint(newstring)  \n```\n---  \n\n\n</details>  \n\n",
      "attachments": {},
      "metadata": {},
      "cell_type": "markdown"
    },
    {
      "source": "## Computing the Value of a Polynomial\n\n\nThe built-in function `enumerate` takes a sequence (e.g. a list) and generates a new sequence of the same length. Each element of the new sequence is a pair composed of the index (0, 1, 2,...) and the value from the original sequence:\n\n\n---\n\n\n<span style=\"color:blue\">In [1]:</span>\n```python\nfor idx, val in enumerate(a_list):\n    # Do something using idx and val\n```\n---\n\n\n\n\nThe code above loops through `a_list`, assigning the index to `idx` and the value to `val`.\n\n\nSuppose you have encoded a polynomial as a list of coefficients in the following way: the first element is the constant term, the second element is the coefficient of the linear term, the third is the coefficient of the quadratic term, etc.\n\n\n",
      "attachments": {},
      "metadata": {},
      "cell_type": "markdown"
    },
    {
      "source": "x = 5\ncoefs = [2, 4, 3]\ny = coefs[0] * x**0 + coefs[1] * x**1 + coefs[2] * x**2\nprint(y)",
      "metadata": {
        "format": "row",
        "collapsed": true,
        "scrolled": false
      },
      "execution_count": 0,
      "outputs": [
        {
          "data": {
            "text/plain": "97\n"
          },
          "output_type": "execute_result",
          "metadata": {},
          "execution_count": 0
        }
      ],
      "cell_type": "code"
    },
    {
      "source": "Write a loop using `enumerate(coefs)` which computes the value `y` of any polynomial, given `x` and `coefs`.  \n\n\n<details>  \n<summary><b> Solution</b></summary>  \n\n---  \n<span style=\"color:blue\">In [1]:</span>  \n```python\ny = 0  \nfor idx, coef in enumerate(coefs):  \ny = y + coef * x**idx  \n```\n---  \n\n\n</details>  \n\n",
      "attachments": {},
      "metadata": {},
      "cell_type": "markdown"
    }
  ]
}