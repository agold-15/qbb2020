{
 "cells": [
  {
   "cell_type": "markdown",
   "metadata": {},
   "source": [
    "# Welcome to QBB2020!\n",
    "\n",
    "Please use this Jupyter Notebook to complete the Python preparatory work.  These exercises are based on the excellent [Programming with Python](https://swcarpentry.github.io/python-novice-inflammation/) materials created by Software Carpentry."
   ]
  },
  {
   "cell_type": "markdown",
   "metadata": {},
   "source": [
    "# Visualizing Tabular Data Overview [[ref](https://swcarpentry.github.io/python-novice-inflammation/03-matplotlib/index.html)]\n",
    "\n",
    "- Questions: \n",
    "- Objectives:\n",
    "- Estimated Time: 50 min"
   ]
  },
  {
   "cell_type": "markdown",
   "metadata": {},
   "source": [
    "# Visualizing Data"
   ]
  },
  {
   "cell_type": "markdown",
   "metadata": {},
   "source": [
    "The mathematician Richard Hamming once said, \"The purpose of computing is insight, not numbers,\" and\n",
    "the best way to develop insight is often to visualize data.  Visualization deserves an entire\n",
    "lecture of its own, but we can explore a few features of Python's `matplotlib` library here.  While\n",
    "there is no official plotting library, `matplotlib` is the _de facto_ standard.  First, we will\n",
    "import the `pyplot` module from `matplotlib` and use two of its functions to create and display a\n",
    "heat map of our data:\n"
   ]
  },
  {
   "cell_type": "code",
   "execution_count": null,
   "metadata": {
    "scrolled": true
   },
   "outputs": [],
   "source": [
    "import numpy\n",
    "data = numpy.loadtxt(fname='data/inflammation-01.csv', delimiter=',')\n",
    "\n",
    "import matplotlib.pyplot\n",
    "image = matplotlib.pyplot.imshow(data)\n",
    "matplotlib.pyplot.show()"
   ]
  }
 ],
 "metadata": {
  "kernelspec": {
   "display_name": "Python 3",
   "language": "python",
   "name": "python3"
  },
  "language_info": {
   "codemirror_mode": {
    "name": "ipython",
    "version": 3
   },
   "file_extension": ".py",
   "mimetype": "text/x-python",
   "name": "python",
   "nbconvert_exporter": "python",
   "pygments_lexer": "ipython3",
   "version": "3.7.6"
  },
  "toc": {
   "base_numbering": 1,
   "nav_menu": {},
   "number_sections": true,
   "sideBar": true,
   "skip_h1_title": false,
   "title_cell": "Table of Contents",
   "title_sidebar": "Contents",
   "toc_cell": false,
   "toc_position": {},
   "toc_section_display": true,
   "toc_window_display": true
  }
 },
 "nbformat": 4,
 "nbformat_minor": 4
}
