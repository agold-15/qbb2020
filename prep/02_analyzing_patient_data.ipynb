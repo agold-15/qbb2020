{
 "cells": [
  {
   "cell_type": "markdown",
   "metadata": {},
   "source": [
    "# Welcome to QBB2020!\n",
    "\n",
    "Please use this Jupyter Notebook to complete the Python preparatory work.  These exercises are based on the excellent [Programming with Python](https://swcarpentry.github.io/python-novice-inflammation/) materials created by Software Carpentry."
   ]
  },
  {
   "cell_type": "markdown",
   "metadata": {},
   "source": [
    "# Analyzing Patient Data Overview [[ref](https://swcarpentry.github.io/python-novice-inflammation/02-numpy/index.html)]\n",
    "\n",
    "- Questions: \n",
    "    - How can I process tabular data files in Python?\n",
    "- Objectives:\n",
    "    - Explain what a library is and what libraries are used for.\n",
    "    - Import a Python library and use the functions it contains.\n",
    "    - Read tabular data from a file into a program.\n",
    "    - Select individual values and subsections from data.\n",
    "    - Perform operations on arrays of data.\n",
    "- Estimated Time: 60 min"
   ]
  },
  {
   "cell_type": "markdown",
   "metadata": {},
   "source": [
    "Words are useful, but what's more useful are the sentences and stories we build with them.\n",
    "Similarly, while a lot of powerful, general tools are built into Python,\n",
    "specialized tools built up from these basic units live in\n",
    "[libraries](https://swcarpentry.github.io/python-novice-inflammation/reference/#library)\n",
    "that can be called upon when needed.\n"
   ]
  },
  {
   "cell_type": "markdown",
   "metadata": {},
   "source": [
    "# Loading data into Python"
   ]
  },
  {
   "cell_type": "markdown",
   "metadata": {},
   "source": [
    "To begin processing inflammation data, we need to load it into Python.\n",
    "We can do that using a library called\n",
    "[NumPy](http://docs.scipy.org/doc/numpy/ \"NumPy Documentation\"), which stands for Numerical Python.\n",
    "In general, you should use this library when you want to do fancy things with lots of numbers,\n",
    "especially if you have matrices or arrays. To tell Python that we'd like to start using NumPy,\n",
    "we need to [import](https://swcarpentry.github.io/python-novice-inflammation/reference/#import) it:"
   ]
  },
  {
   "cell_type": "code",
   "execution_count": null,
   "metadata": {},
   "outputs": [],
   "source": [
    "import numpy"
   ]
  },
  {
   "cell_type": "markdown",
   "metadata": {},
   "source": [
    "Importing a library is like getting a piece of lab equipment out of a storage locker and setting it\n",
    "up on the bench. Libraries provide additional functionality to the basic Python package, much like\n",
    "a new piece of equipment adds functionality to a lab space. Just like in the lab, importing too\n",
    "many libraries can sometimes complicate and slow down your programs - so we only import what we\n",
    "need for each program.\n",
    "\n",
    "Once we've imported the library, we can ask the library to read our data file for us:\n"
   ]
  },
  {
   "cell_type": "code",
   "execution_count": null,
   "metadata": {},
   "outputs": [],
   "source": [
    "numpy.loadtxt(fname='data/inflammation-01.csv', delimiter=',')"
   ]
  },
  {
   "cell_type": "markdown",
   "metadata": {},
   "source": [
    "The expression `numpy.loadtxt(...)` is a [function call](https://swcarpentry.github.io/python-novice-inflammation/reference/#function-call)\n",
    "that asks Python to run the [function](https://swcarpentry.github.io/python-novice-inflammation/reference/#function) `loadtxt` which\n",
    "belongs to the `numpy` library. This [dotted notation](https://swcarpentry.github.io/python-novice-inflammation/reference/#dotted-notation)\n",
    "is used everywhere in Python: the thing that appears before the dot contains the thing that\n",
    "appears after.\n",
    "\n",
    "As an example, John Smith is the John that belongs to the Smith family.\n",
    "We could use the dot notation to write his name `smith.john`,\n",
    "just as `loadtxt` is a function that belongs to the `numpy` library.\n",
    "\n",
    "`numpy.loadtxt` has two [parameters](https://swcarpentry.github.io/python-novice-inflammation/reference/#parameter): the name of the file\n",
    "we want to read and the [delimiter](https://swcarpentry.github.io/python-novice-inflammation/reference/#delimiter) that separates values on\n",
    "a line. These both need to be character strings (or [strings](https://swcarpentry.github.io/python-novice-inflammation/reference/#string)\n",
    "for short), so we put them in quotes.\n",
    "\n",
    "Since we haven't told it to do anything else with the function's output,\n",
    "the [notebook](https://swcarpentry.github.io/python-novice-inflammation/reference/#notebook) displays it.\n",
    "In this case,\n",
    "that output is the data we just loaded.\n",
    "By default,\n",
    "only a few rows and columns are shown\n",
    "(with `...` to omit elements when displaying big arrays).\n",
    "Note that, to save space when displaying NumPy arrays, Python does not show us trailing zeros, so `1.0` becomes `1.`.\n"
   ]
  },
  {
   "cell_type": "markdown",
   "metadata": {},
   "source": [
    "## Importing libraries with shortcuts"
   ]
  },
  {
   "cell_type": "markdown",
   "metadata": {},
   "source": [
    "## Data Type"
   ]
  },
  {
   "cell_type": "markdown",
   "metadata": {},
   "source": [
    "## In the Corner"
   ]
  },
  {
   "cell_type": "markdown",
   "metadata": {},
   "source": [
    "# Slicing data"
   ]
  },
  {
   "cell_type": "markdown",
   "metadata": {},
   "source": [
    "# Analyzing data"
   ]
  },
  {
   "cell_type": "markdown",
   "metadata": {},
   "source": [
    "# Exercise 2.1: Slicing Strings"
   ]
  },
  {
   "cell_type": "code",
   "execution_count": null,
   "metadata": {},
   "outputs": [],
   "source": [
    "element = 'oxygen'\n",
    "print('first three characters:', element[0:3])\n",
    "print('last three characters:', element[3:6])"
   ]
  },
  {
   "cell_type": "markdown",
   "metadata": {},
   "source": [
    "What is the value of `element[:4]`? What about `element[4:]`? Or `element[:]`?"
   ]
  },
  {
   "cell_type": "code",
   "execution_count": null,
   "metadata": {},
   "outputs": [],
   "source": []
  },
  {
   "cell_type": "markdown",
   "metadata": {},
   "source": [
    "What is `element[-1]`? What is `element[-2]`?"
   ]
  },
  {
   "cell_type": "code",
   "execution_count": null,
   "metadata": {},
   "outputs": [],
   "source": []
  },
  {
   "cell_type": "markdown",
   "metadata": {},
   "source": [
    "Given those answers, explain what `element[1:-1]` does."
   ]
  },
  {
   "cell_type": "code",
   "execution_count": null,
   "metadata": {},
   "outputs": [],
   "source": []
  },
  {
   "cell_type": "markdown",
   "metadata": {},
   "source": [
    "How can we rewrite the slice for getting the last three characters of `element`, so that it works even if we assign a different string to `element`? Test your solution with the following strings: `carpentry`, `clone`, `hi`."
   ]
  },
  {
   "cell_type": "code",
   "execution_count": null,
   "metadata": {},
   "outputs": [],
   "source": []
  },
  {
   "cell_type": "markdown",
   "metadata": {},
   "source": [
    "# Exercise 2.2: Thin Slices"
   ]
  },
  {
   "cell_type": "markdown",
   "metadata": {},
   "source": [
    "The expression `element[3:3]` produces an `empty string`, i.e., a string that contains no characters. If `data` holds our array of patient data, what does `data[3:3, 4:4]` produce? What about `data[3:3, :]`?"
   ]
  },
  {
   "cell_type": "code",
   "execution_count": null,
   "metadata": {},
   "outputs": [],
   "source": []
  },
  {
   "cell_type": "markdown",
   "metadata": {},
   "source": [
    "# Exercise 2.3: Stacking Arrays"
   ]
  },
  {
   "cell_type": "code",
   "execution_count": null,
   "metadata": {},
   "outputs": [],
   "source": [
    "import numpy\n",
    "\n",
    "A = numpy.array([[1,2,3], [4,5,6], [7, 8, 9]])\n",
    "print('A = ')\n",
    "print(A)\n",
    "\n",
    "B = numpy.hstack([A, A])\n",
    "print('B = ')\n",
    "print(B)\n",
    "\n",
    "C = numpy.vstack([A, A])\n",
    "print('C = ')\n",
    "print(C)"
   ]
  },
  {
   "cell_type": "markdown",
   "metadata": {},
   "source": [
    "Write some additional code that slices the first and last columns of `A`, and stacks them into a 3x2 array. Make sure to `print` the results to verify your solution."
   ]
  },
  {
   "cell_type": "code",
   "execution_count": null,
   "metadata": {},
   "outputs": [],
   "source": []
  },
  {
   "cell_type": "markdown",
   "metadata": {},
   "source": [
    "# Exercise 2.4: Change in Inflammation"
   ]
  },
  {
   "cell_type": "code",
   "execution_count": null,
   "metadata": {},
   "outputs": [],
   "source": []
  },
  {
   "cell_type": "markdown",
   "metadata": {},
   "source": [
    "# Key Points\n",
    "\n",
    "- Import a library into a program using `import libraryname`.\n",
    "- Use the `numpy` library to work with arrays in Python.\n",
    "- The expression `array.shape` gives the shape of an array.\n",
    "- Use `array[x, y]` to select a single element from a 2D array.\n",
    "- Array indices start at 0, not 1.\n",
    "- Use `low:high` to specify a `slice` that includes the indices from `low` to `high-1`.\n",
    "- Use `# some kind of explanation` to add comments to programs.\n",
    "- Use `numpy.mean(array)`, `numpy.max(array)`, and `numpy.min(array)` to calculate simple statistics.\n",
    "- Use `numpy.mean(array, axis=0)` or `numpy.mean(array, axis=1)` to calculate statistics across the specified axis."
   ]
  }
 ],
 "metadata": {
  "kernelspec": {
   "display_name": "Python 3",
   "language": "python",
   "name": "python3"
  },
  "language_info": {
   "codemirror_mode": {
    "name": "ipython",
    "version": 3
   },
   "file_extension": ".py",
   "mimetype": "text/x-python",
   "name": "python",
   "nbconvert_exporter": "python",
   "pygments_lexer": "ipython3",
   "version": "3.7.6"
  },
  "toc": {
   "base_numbering": 1,
   "nav_menu": {},
   "number_sections": true,
   "sideBar": true,
   "skip_h1_title": false,
   "title_cell": "Table of Contents",
   "title_sidebar": "Contents",
   "toc_cell": false,
   "toc_position": {},
   "toc_section_display": true,
   "toc_window_display": true
  }
 },
 "nbformat": 4,
 "nbformat_minor": 4
}
