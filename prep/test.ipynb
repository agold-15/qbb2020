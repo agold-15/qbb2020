{
  "nbformat": 4,
  "cells": [
    {
      "attachments": {},
      "source": "Adapted from [Software Carpentry](https://swcarpentry.github.io/python-novice-inflammation/01-intro/index.html \"01-intro\")",
      "cell_type": "markdown",
      "metadata": {}
    },
    {
      "attachments": {},
      "source": "---\n\n\n\n\n# Python Fundamentals\n\n\nteaching: 20\n\n\nexercises: 10\n\n\nquestions:\n\n\n- \"What basic data types can I work with in Python?\"\n- \"How can I create a new variable in Python?\"\n- \"Can I change the value associated with a variable after I create it?\"\n\n\nobjectives:\n\n\n- \"Assign values to variables.\"\n\n\nkeypoints:\n\n\n- \"Basic data types in Python include integers, strings, and floating-point numbers.\"\n- \"Use `variable = value` to assign a value to a variable in order to record it in memory.\"\n- \"Variables are created on demand whenever a value is assigned to them.\"\n- \"Use `print(something)` to display the value of `something`.\"\n---\n\n\n\n\n## Variables\n\n\nAny Python interpreter can be used as a calculator:\n\n\n",
      "cell_type": "markdown",
      "metadata": {}
    },
    {
      "metadata": {
        "scrolled": false,
        "collapsed": true,
        "format": "row"
      },
      "cell_type": "code",
      "outputs": [
        {
          "metadata": {},
          "data": {
            "text/plain": "60.0\n"
          },
          "execution_count": 0,
          "output_type": "execute_result"
        }
      ],
      "execution_count": 0,
      "source": "print(weight_kg)"
    },
    {
      "attachments": {
        "fig/python-sticky-note-variables-01.svg": {
          "image/svg+xml": "UTF-8"
        }
      },
      "source": "## Variables as Sticky Notes\n\n\nA variable is analogous to a sticky note with a name written on it: assigning a value to a variable is like putting that sticky note on a particular value.\n\n\n> <img src=fig/python-sticky-note-variables-01.svg>Value of 65.0 with weight_kg label stuck on it\n\n\nThis means that assigning a value to one variable does **not** change values of other variables. For example, let's store the subject's weight in pounds in its own variable:\n\n\n",
      "cell_type": "markdown",
      "metadata": {}
    },
    {
      "metadata": {
        "scrolled": false,
        "collapsed": true,
        "format": "row"
      },
      "cell_type": "code",
      "outputs": [],
      "execution_count": 0,
      "source": "weight_kg = 60"
    }
  ],
  "metadata": {
    "kernelspec": {
      "name": "python3",
      "language": "python",
      "display_name": "Python 3"
    },
    "language_info": {
      "file_extension": ".py",
      "name": "python",
      "version": "3.7.6",
      "pygments_lexer": "ipython3",
      "codemirror_mode": {
        "name": "ipython",
        "version": 3
      },
      "nbconvert_exporter": "python",
      "mimetype": "text/x-python"
    },
    "toc": {
      "title_cell": "Table of Contents",
      "toc_cell": false,
      "number_sections": false,
      "toc_window_display": true,
      "skip_h1_title": false,
      "toc_postion": {},
      "nav_menu": {},
      "sideBar": true,
      "title_sidebar": "Contents",
      "base_numbering": 1,
      "toc_section_display": true
    }
  },
  "nbformat_minor": 4
}