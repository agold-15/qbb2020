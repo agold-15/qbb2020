{
  "nbformat": 4, 
  "cells": [
    {
      "source": "## Learning objectives\n\n\n1. Understanding *print* syntax\n\n2. Using basic Python data types and assignment\n\n3. The basics of lists\n\n4. Understanding mutability\n\n5. If / else statemens and for loops\n\n6. Interacting with files in Python\n\n---\n\n\n\n\n## Printing with Python\n\n\nLet's start with something simple. The print function allows us to send information to the terminal as standard output. That means that we can use it for giving information to the user or to downstream programs in our pipeline. Let's see what it does.\n\n\n", 
      "cell_type": "markdown", 
      "attachments": {}, 
      "metadata": {}
    }, 
    {
      "execution_count": 0, 
      "cell_type": "code", 
      "source": "print('Hello world')", 
      "outputs": [], 
      "metadata": {
        "scrolled": true, 
        "collapsed": false, 
        "format": "row"
      }
    }, 
    {
      "source": "What happens if we want to print something other than a string? Let's see what happends when we print an integer. What about a float?\n\n\n", 
      "cell_type": "markdown", 
      "attachments": {}, 
      "metadata": {}
    }, 
    {
      "execution_count": 0, 
      "cell_type": "code", 
      "source": "print(1)\nprint(1.0 / 3.0)", 
      "outputs": [], 
      "metadata": {
        "scrolled": true, 
        "collapsed": false, 
        "format": "row"
      }
    }, 
    {
      "source": "Python can render all of its basic data types and structures in string format. In addition, any python class that has the special member function '__str__'. So, let's see what a printed list looks like.\n\n\n", 
      "cell_type": "markdown", 
      "attachments": {}, 
      "metadata": {}
    }, 
    {
      "execution_count": 0, 
      "cell_type": "code", 
      "source": "a = ['Hello', 'world']\nprint(a)", 
      "outputs": [], 
      "metadata": {
        "scrolled": true, 
        "collapsed": false, 
        "format": "row"
      }
    }, 
    {
      "source": "Now, what happens when we have more than one thing we want to print? The print function can handle that as well. Any number of objects can be passed to print.\n\n\n", 
      "cell_type": "markdown", 
      "attachments": {}, 
      "metadata": {}
    }, 
    {
      "execution_count": 0, 
      "cell_type": "code", 
      "source": "print('Hello', 'world')", 
      "outputs": [], 
      "metadata": {
        "scrolled": true, 
        "collapsed": false, 
        "format": "row"
      }
    }, 
    {
      "source": "What if we want to combine the multiple elements into a single string before printing it? We have a few options. Strings can be combined using addition.\n\n\n", 
      "cell_type": "markdown", 
      "attachments": {}, 
      "metadata": {}
    }, 
    {
      "execution_count": 0, 
      "cell_type": "code", 
      "source": "print('Hello' + ' world')", 
      "outputs": [], 
      "metadata": {
        "scrolled": true, 
        "collapsed": false, 
        "format": "row"
      }
    }, 
    {
      "source": "We can also use something called string formatting. String formatting comes in two varieties, old and new styles. The old variety requires us to know exactly what kind of variable is being substituted into the string.\n\n\n", 
      "cell_type": "markdown", 
      "attachments": {}, 
      "metadata": {}
    }, 
    {
      "execution_count": 0, 
      "cell_type": "code", 
      "source": "print('Hello %s' % ('world'))", 
      "outputs": [], 
      "metadata": {
        "scrolled": true, 
        "collapsed": false, 
        "format": "row"
      }
    }, 
    {
      "source": "The second string formatting approach uses placeholders that specify either implicitly (in order) or explicitly which value from the list of arguments to substitute in.\n\n\n", 
      "cell_type": "markdown", 
      "attachments": {}, 
      "metadata": {}
    }, 
    {
      "execution_count": 0, 
      "cell_type": "code", 
      "source": "print('{} {}'.format('Hello', 'world'))\nprint('{0} {1}'.format('Hello', 'world'))", 
      "outputs": [], 
      "metadata": {
        "scrolled": true, 
        "collapsed": false, 
        "format": "row"
      }
    }, 
    {
      "source": "We can also reuse arguments with this second approach.\n\n\n", 
      "cell_type": "markdown", 
      "attachments": {}, 
      "metadata": {}
    }, 
    {
      "execution_count": 0, 
      "cell_type": "code", 
      "source": "print('He{0}{0}{1} w{1}r{0}d'.format('l', 'o'))", 
      "outputs": [], 
      "metadata": {
        "scrolled": true, 
        "collapsed": false, 
        "format": "row"
      }
    }, 
    {
      "source": "Finally, we can direct the output of the print function to different destinations. For example, we can tell it to go to the standard error buffer, a separate way to print to the terminal that isn't read as standard input, usually used for printing error and status messages.\n\n\n", 
      "cell_type": "markdown", 
      "attachments": {}, 
      "metadata": {}
    }, 
    {
      "execution_count": 0, 
      "cell_type": "code", 
      "source": "import sys\n\nprint('Hello world', file=sys.stderr)", 
      "outputs": [], 
      "metadata": {
        "scrolled": true, 
        "collapsed": false, 
        "format": "row"
      }
    }, 
    {
      "source": "We can also print to a filestream, which we'll talk about a little later.\n\n\n", 
      "cell_type": "markdown", 
      "attachments": {}, 
      "metadata": {}
    }, 
    {
      "execution_count": 0, 
      "cell_type": "code", 
      "source": "fs = open('hello_world.txt', 'w') # Don't worry about what this means yet\nprint('Hello world', file=fs)\nfs.close()", 
      "outputs": [], 
      "metadata": {
        "scrolled": true, 
        "collapsed": false, 
        "format": "row"
      }
    }, 
    {
      "source": "You should now have a file called 'hello_world.txt' containing that text.\n\n\n### Excercise:\n\n\nNow, given the following variables, try printing the 'do wa ditty ditty dum ditty do' with the format method. Can you do it reusing arguments?\n\n\n", 
      "cell_type": "markdown", 
      "attachments": {}, 
      "metadata": {}
    }, 
    {
      "execution_count": 0, 
      "cell_type": "code", 
      "source": "do = 'do'\nwa = 'wa'\nditty = 'ditty'\ndum = 'dum'", 
      "outputs": [], 
      "metadata": {
        "scrolled": true, 
        "collapsed": false, 
        "format": "row"
      }
    }, 
    {
      "source": "Your answer:\n\n\n", 
      "cell_type": "markdown", 
      "attachments": {}, 
      "metadata": {}
    }, 
    {
      "execution_count": 0, 
      "cell_type": "code", 
      "source": "print(\"{0} {1} {2} {2} {3} {2} {0}\".format(do, wa, ditty, dum))", 
      "outputs": [], 
      "metadata": {
        "scrolled": true, 
        "collapsed": false, 
        "format": "row"
      }
    }, 
    {
      "source": "## Looking at basic Python data types\n\n\nLet's take a look at the basic Python data types.\n\n\n", 
      "cell_type": "markdown", 
      "attachments": {}, 
      "metadata": {}
    }, 
    {
      "execution_count": 0, 
      "cell_type": "code", 
      "source": "i = 7\n\ni_as_s = str( i )\n\nf = 5.689\n\ns_as_r = float( \"5.689\" )\n\n# String\ns = \"This is a string\"\n\n# Boolean\ntruthy = True\nfalsy = False\n\nprint(i, type(i))\nprint(i_as_s, type(i_as_s))\nprint(f, type(f))\nprint(s_as_r, type(s_as_r))\nprint(s, type(s))\nprint(truthy, type(truthy))\nprint(falsy, type(falsy))", 
      "outputs": [], 
      "metadata": {
        "scrolled": true, 
        "collapsed": false, 
        "format": "row"
      }
    }, 
    {
      "source": "One particularly handy string method is `split`. It breaks the string up based on whatever argument is passed and returns a list with all of the resulting substrings. With no argument, it defaults to splitting on all tabs and spaces.\n\n\n", 
      "cell_type": "markdown", 
      "attachments": {}, 
      "metadata": {}
    }, 
    {
      "execution_count": 0, 
      "cell_type": "code", 
      "source": "s = 'our test string'\nprint(s.split())\nprint(s.split('t'))", 
      "outputs": [], 
      "metadata": {
        "scrolled": true, 
        "collapsed": false, 
        "format": "row"
      }
    }, 
    {
      "source": "The reverse of this is `join`. This puts the string inbetween all elements in a list of strings.\n\n\n", 
      "cell_type": "markdown", 
      "attachments": {}, 
      "metadata": {}
    }, 
    {
      "execution_count": 0, 
      "cell_type": "code", 
      "source": "s = ' '\nL = ['A', 'B', 'C']\nprint(s.join(L))\ns = '_'\nprint(s.join(L))", 
      "outputs": [], 
      "metadata": {
        "scrolled": true, 
        "collapsed": false, 
        "format": "row"
      }
    }, 
    {
      "source": "### Excercise:\n\n\nWhat happens we you combine different variable types? What type do you get? Use the function ```type``` to see.\n\n\n", 
      "cell_type": "markdown", 
      "attachments": {}, 
      "metadata": {}
    }, 
    {
      "execution_count": 0, 
      "cell_type": "code", 
      "source": "# e.g. print(type(1+1))\nprint(type(1+1.0))\nprint(type(1+True))\nprint(type(1.0+True))", 
      "outputs": [], 
      "metadata": {
        "scrolled": true, 
        "collapsed": false, 
        "format": "row"
      }
    }, 
    {
      "source": "## Altering variables in place\n\n\nWhen performing operations on variables, we can put the results in a new variable, but it is often much more useful to alter an existing variable. Let's start with a simple example of a counter.\n\n\n", 
      "cell_type": "markdown", 
      "attachments": {}, 
      "metadata": {}
    }, 
    {
      "execution_count": 0, 
      "cell_type": "code", 
      "source": "# Let's initialize our counter with a value of zero\ncounter = 0\n\n# Let's perform a loop 5 times and count the loops\nfor i in range(5):\n    # We can increment our counter this way:\n    # counter = counter + 1\n    # but an easier way is to implicitly include the 'counter +' portion like so\n    counter += 1\n    # This is called an 'assignment operator'\n\n    print(counter)", 
      "outputs": [], 
      "metadata": {
        "scrolled": true, 
        "collapsed": false, 
        "format": "row"
      }
    }, 
    {
      "source": "There are a variety of operators that can use assignment operations:\n\n\n- +=  Addition\n- -=  Subtraction\n- *=  Multiplication\n- /=  Division\n- **=  Raising the variable to the power of a value\n- %=  Computes the modulus of the variable and a value\n- //=  Computes floor (integer) division\n\n\n### Excercise:\n\n\nCan you perfom the following equation with one line per operation using only assignment operators?\n\n\n", 
      "cell_type": "markdown", 
      "attachments": {}, 
      "metadata": {}
    }, 
    {
      "execution_count": 0, 
      "cell_type": "code", 
      "source": "# ((5 + 10) / 3) ** 2\na = 0\na += 10\na += 5\na /= 3\na **= 2", 
      "outputs": [], 
      "metadata": {
        "scrolled": true, 
        "collapsed": false, 
        "format": "row"
      }
    }, 
    {
      "source": "## Lists\n\n\nLists can contain any kind of data object and each entry in a list can be different. However, the convention is to use a single object type per list. Once created, lists can by altered, changing, adding, or deleting entries.\n\n\nCreate a list from data\n\n\n", 
      "cell_type": "markdown", 
      "attachments": {}, 
      "metadata": {}
    }, 
    {
      "execution_count": 0, 
      "cell_type": "code", 
      "source": "L = [1, 2, 3]", 
      "outputs": [], 
      "metadata": {
        "scrolled": true, 
        "collapsed": false, 
        "format": "row"
      }
    }, 
    {
      "source": "Add an entry\n\n\n", 
      "cell_type": "markdown", 
      "attachments": {}, 
      "metadata": {}
    }, 
    {
      "execution_count": 0, 
      "cell_type": "code", 
      "source": "L.append(4)\nprint(L)", 
      "outputs": [], 
      "metadata": {
        "scrolled": true, 
        "collapsed": false, 
        "format": "row"
      }
    }, 
    {
      "source": "Add two lists\n\n\n", 
      "cell_type": "markdown", 
      "attachments": {}, 
      "metadata": {}
    }, 
    {
      "execution_count": 0, 
      "cell_type": "code", 
      "source": "L2 = L + [5, 6]\nprint(L2)", 
      "outputs": [], 
      "metadata": {
        "scrolled": true, 
        "collapsed": false, 
        "format": "row"
      }
    }, 
    {
      "source": "In order to access data in a list, we can tell it what *index*, or list position, we want to see. As with all objects in Python, the first entry in a list has an index of zero. So, the last entry is at index length(list) - 1, of ```len(L) - 1```.\n\n\nWe can also use special syntax in indexing lists. To get a range of values, we can use a colon to indicate the first position through the first excluded position. Thus, ```L[1:3]``` gives us list entries 1 and 2. We can also use implicit values in specifying ranges. If we leave out ths start index, it is assumed to be zero. If we leave out the stop index, it is assumed to be the length of the list. So ```L[:3]``` would return the first three values from the list. When a range is used to index a list, a list of the requested entries is returned. This indexing is the same as is used for strings.\n\n\nChange an entry\n\n\n", 
      "cell_type": "markdown", 
      "attachments": {}, 
      "metadata": {}
    }, 
    {
      "execution_count": 0, 
      "cell_type": "code", 
      "source": "L[1] = 7\nprint(L)", 
      "outputs": [], 
      "metadata": {
        "scrolled": true, 
        "collapsed": false, 
        "format": "row"
      }
    }, 
    {
      "source": "Remove an entry\n\n\n", 
      "cell_type": "markdown", 
      "attachments": {}, 
      "metadata": {}
    }, 
    {
      "execution_count": 0, 
      "cell_type": "code", 
      "source": "del L[0]\nprint(L)", 
      "outputs": [], 
      "metadata": {
        "scrolled": true, 
        "collapsed": false, 
        "format": "row"
      }
    }, 
    {
      "source": "Pull an entry out of the list\n\n\n", 
      "cell_type": "markdown", 
      "attachments": {}, 
      "metadata": {}
    }, 
    {
      "execution_count": 0, 
      "cell_type": "code", 
      "source": "v = L.pop(0)\nprint(L)\nprint(v)", 
      "outputs": [], 
      "metadata": {
        "scrolled": true, 
        "collapsed": false, 
        "format": "row"
      }
    }, 
    {
      "source": "We can also delete a specific value from the list. This finds the first time the value appears and removes it.\n\n\n", 
      "cell_type": "markdown", 
      "attachments": {}, 
      "metadata": {}
    }, 
    {
      "execution_count": 0, 
      "cell_type": "code", 
      "source": "L.remove(3)\nprint(L)", 
      "outputs": [], 
      "metadata": {
        "scrolled": true, 
        "collapsed": false, 
        "format": "row"
      }
    }, 
    {
      "source": "If the value doesn't exists, we get an error\n\n\n", 
      "cell_type": "markdown", 
      "attachments": {}, 
      "metadata": {}
    }, 
    {
      "execution_count": 0, 
      "cell_type": "code", 
      "source": "L.remove(0)", 
      "outputs": [], 
      "metadata": {
        "scrolled": true, 
        "collapsed": false, 
        "format": "row"
      }
    }, 
    {
      "source": "### Excercise:\n\n\nGiven the following grocery list, can you make items into the appropriate fruits, vegetables, and meats lists? Can you do this using ```pop```? Indexing and list addition?\n\n\n", 
      "cell_type": "markdown", 
      "attachments": {}, 
      "metadata": {}
    }, 
    {
      "execution_count": 0, 
      "cell_type": "code", 
      "source": "groceries = ['apple', 'pear', 'brocolli', 'lettuce', 'watermelon', 'turkey', 'beef', 'carrots']\nfruits = []\nvegetables = []\nmeats = []\n\n## Your code\nfruits.append(groceries.pop(0))\nfruits.append(groceries.pop(0))\nvegetables.append(groceries.pop(0))\nvegetables.append(groceries.pop(0))\nfruits.append(groceries.pop(0))\nmeats.append(groceries.pop(0))\nmeats.append(groceries.pop(0))\nvegetables.append(groceries.pop(0))\nprint('Fruits:', fruits)\nprint('Vegetables:', vegetables)\nprint('Meats:', meats)\n\n# or\n\ngroceries = ['apple', 'pear', 'brocolli', 'lettuce', 'watermelon', 'turkey', 'beef', 'carrots']\nfruits = []\nvegetables = []\nmeats = []\n\nfruits += groceries[:2]\nfruits += groceries[4:5]\nvegetables += groceries[2:4]\nvegetables += groceries[7:8]\nmeats += groceries[5:7]\nprint('Fruits:', fruits)\nprint('Vegetables:', vegetables)\nprint('Meats:', meats)", 
      "outputs": [], 
      "metadata": {
        "scrolled": true, 
        "collapsed": false, 
        "format": "row"
      }
    }, 
    {
      "source": "## Mutability\n\n\nLet's take a quick look at mutability.\n\n\nMutability just means that we can change the value of a data object *in place*. Of all of the data objects we've talked about so far, only lists are mutable. When we assign a new value to a variable that already exists, we aren't changing its value, we're actually creating a new variable and giving it the old name. This is especially clear when we replace an old value with one that takes up a different amount of memory.\n\n\n![](./fig/mutability.png)\n\n\n", 
      "cell_type": "markdown", 
      "attachments": {}, 
      "metadata": {}
    }, 
    {
      "execution_count": 0, 
      "cell_type": "code", 
      "source": "a = 1\na = 2\nprint(a)", 
      "outputs": [], 
      "metadata": {
        "scrolled": true, 
        "collapsed": false, 
        "format": "row"
      }
    }, 
    {
      "execution_count": 0, 
      "cell_type": "code", 
      "source": "a = 'a'\na = 'b'\nprint(a)", 
      "outputs": [], 
      "metadata": {
        "scrolled": true, 
        "collapsed": false, 
        "format": "row"
      }
    }, 
    {
      "source": "Let's see what happens when we try to assign a different letter in a string\n\n\n", 
      "cell_type": "markdown", 
      "attachments": {}, 
      "metadata": {}
    }, 
    {
      "execution_count": 0, 
      "cell_type": "code", 
      "source": "a = 'abc'\nprint(a[1])\n\na[1] = 'd'\nprint(a)", 
      "outputs": [], 
      "metadata": {
        "scrolled": true, 
        "collapsed": false, 
        "format": "row"
      }
    }, 
    {
      "source": "This is because we're trying to overwrite only part of the string, rather than replacing it. If we want to do this replacement, we'll need to create a new string.\n\n\n", 
      "cell_type": "markdown", 
      "attachments": {}, 
      "metadata": {}
    }, 
    {
      "execution_count": 0, 
      "cell_type": "code", 
      "source": "a = 'abc'\na = a[:1] + 'd' + a[2:]\nprint(a)", 
      "outputs": [], 
      "metadata": {
        "scrolled": true, 
        "collapsed": false, 
        "format": "row"
      }
    }, 
    {
      "source": "## Conditional statements\n\n\nConditional statements give you the ability to adapt your code to a variety of situtations depending on what is encountered. Conditional statements take the form of *if else* statements. An *if* statement can handle anything that can be evaluated to true or false.\n\n\n", 
      "cell_type": "markdown", 
      "attachments": {}, 
      "metadata": {}
    }, 
    {
      "execution_count": 0, 
      "cell_type": "code", 
      "source": "# The '==' means 'is equal to'. '=' means 'assign this value to'. Don't get them mixed up!\nif 1 == 1:\n    print('true')\nelse:\n    print('false')", 
      "outputs": [], 
      "metadata": {
        "scrolled": true, 
        "collapsed": false, 
        "format": "row"
      }
    }, 
    {
      "source": "For example, all integers evaluate to true except zero. Same for all floats. All strings are true except for empty strings. All lists are true except for empty lists. To see whether something will be true or false, you can simply convert it into a boolean and look at its value.\n\n\n", 
      "cell_type": "markdown", 
      "attachments": {}, 
      "metadata": {}
    }, 
    {
      "execution_count": 0, 
      "cell_type": "code", 
      "source": "print(1, bool(1))\n\nprint(0, bool(0))\n\nprint(1.0, bool(1.0))\n\nprint(0.0, bool(0.0))\n\nprint('abc', bool('abc'))\n\nprint('', bool(''))\n\nprint(['a', 'b', 'c'], bool(['a', 'b', 'c']))\n\nprint([], bool([]))", 
      "outputs": [], 
      "metadata": {
        "scrolled": true, 
        "collapsed": false, 
        "format": "row"
      }
    }, 
    {
      "source": "If we have multiple things to test, we can create nested if statments.\n\n\n", 
      "cell_type": "markdown", 
      "attachments": {}, 
      "metadata": {}
    }, 
    {
      "execution_count": 0, 
      "cell_type": "code", 
      "source": "i = 5\nif i > 0:\n    if i < 10:\n        print('true')", 
      "outputs": [], 
      "metadata": {
        "scrolled": true, 
        "collapsed": false, 
        "format": "row"
      }
    }, 
    {
      "source": "However, we have an easier way to do this. There are logical operators, *and*, *or*, and *xor* (*&*, *|*, and *^*, respectively)\n\n\n", 
      "cell_type": "markdown", 
      "attachments": {}, 
      "metadata": {}
    }, 
    {
      "execution_count": 0, 
      "cell_type": "code", 
      "source": "i = 5\nif i > 0 and i < 10:\n    print('true')", 
      "outputs": [], 
      "metadata": {
        "scrolled": true, 
        "collapsed": false, 
        "format": "row"
      }
    }, 
    {
      "source": "If we want to test multiple conditions sequentially, we can use ```else if``` or better yet, ```elif```.\n\n\n", 
      "cell_type": "markdown", 
      "attachments": {}, 
      "metadata": {}
    }, 
    {
      "execution_count": 0, 
      "cell_type": "code", 
      "source": "i = 15\nif i < 0:\n    print('small')\nelif i > 10:\n    print('large')\nelse:\n    print('medium')", 
      "outputs": [], 
      "metadata": {
        "scrolled": true, 
        "collapsed": false, 
        "format": "row"
      }
    }, 
    {
      "source": "### Exercise:\n\n\nCan you create a conditional statement that prints 'true' for even numbers between 2 and 20, inclusive?\n\n\n", 
      "cell_type": "markdown", 
      "attachments": {}, 
      "metadata": {}
    }, 
    {
      "execution_count": 0, 
      "cell_type": "code", 
      "source": "# Hint: you can use integer division for an easy odd/even test\ni = 16\nif i >= 2 and i <= 20 and i % 2 == 0:\n    print('true')\n\n# or\n\nprint(i >= 2 and i <= 20 and i % 2 == 0)", 
      "outputs": [], 
      "metadata": {
        "scrolled": true, 
        "collapsed": false, 
        "format": "row"
      }
    }, 
    {
      "source": "## For loops\n\n\nThere are lots of times when we need to cycle through information, such as going through items in a list or numbers in a range. A *for* loop acts on something called an *iterator*. An *iterator* will return information each time it is called, such as in a *for* loop. All you need to know about iterators now is that each time information is requested from them, they will pass the next value until they reach the end of their queue of information. While many things can act as an iterator, we are going to look at two kinds of iterators, a list, and *range*.\n\n\n", 
      "cell_type": "markdown", 
      "attachments": {}, 
      "metadata": {}
    }, 
    {
      "execution_count": 0, 
      "cell_type": "code", 
      "source": "L = ['a', 'b', 'c']\n\n# As we go through the list, each value will be placed in 'i'\nfor i in L:\n    print(i)", 
      "outputs": [], 
      "metadata": {
        "scrolled": true, 
        "collapsed": false, 
        "format": "row"
      }
    }, 
    {
      "source": "*range* creates an iterator that can step by some integer value from a start to finish value. If we give it a single value, start defaults to zero, step defaults to one, and the value is the end. Two values are taken as the start and stop, and three are start, stop, and step.\n\n\n", 
      "cell_type": "markdown", 
      "attachments": {}, 
      "metadata": {}
    }, 
    {
      "execution_count": 0, 
      "cell_type": "code", 
      "source": "for i in range(5):\n    print(i)", 
      "outputs": [], 
      "metadata": {
        "scrolled": true, 
        "collapsed": false, 
        "format": "row"
      }
    }, 
    {
      "execution_count": 0, 
      "cell_type": "code", 
      "source": "for i in range(1, 5):\n    print(i)", 
      "outputs": [], 
      "metadata": {
        "scrolled": true, 
        "collapsed": false, 
        "format": "row"
      }
    }, 
    {
      "execution_count": 0, 
      "cell_type": "code", 
      "source": "for i in range(1, 6, 2):\n    print(i)", 
      "outputs": [], 
      "metadata": {
        "scrolled": true, 
        "collapsed": false, 
        "format": "row"
      }
    }, 
    {
      "source": "### Exercise:\n\n\nCan you write a for loop that prints numbers from 9 to 0?\n\n\n", 
      "cell_type": "markdown", 
      "attachments": {}, 
      "metadata": {}
    }, 
    {
      "execution_count": 0, 
      "cell_type": "code", 
      "source": "for i in range(10)[::-1]:\n    print(i)\n\n# or\n\nfor i in range(9, -1, -1):\n    print(i)", 
      "outputs": [], 
      "metadata": {
        "scrolled": true, 
        "collapsed": false, 
        "format": "row"
      }
    }, 
    {
      "source": "## While loops\n\n\nWhile we're at it, let's look at another kind of loop, the `while` loop. This is a loop that executes until a conditional statement becomes False. Be careful, this is an easy way to get your code stuck in an infinite loop. Let's look at a simple way to use this loop.\n\n\n", 
      "cell_type": "markdown", 
      "attachments": {}, 
      "metadata": {}
    }, 
    {
      "execution_count": 0, 
      "cell_type": "code", 
      "source": "i = 0\nwhile i < 10:\n    print(i)\n    i += 1", 
      "outputs": [], 
      "metadata": {
        "scrolled": true, 
        "collapsed": false, 
        "format": "row"
      }
    }, 
    {
      "source": "Before each execution of the code in the loop, python checks if the conditional statement is still True. It's possible that the loop would never execute if the statement was false to begin with.\n\n\nIt's also possible to break out of loops, both `for` and `while`, before they're finished. The `break` command exits a loop immediately. So, it you have some make or break condition, so to speak, you can jump out of your loop. Like if you only want to read the first several lines of a file, for example.\n\n\n", 
      "cell_type": "markdown", 
      "attachments": {}, 
      "metadata": {}
    }, 
    {
      "execution_count": 0, 
      "cell_type": "code", 
      "source": "i = 0\nfor line in range(100): #let's pretend this range function is lines of our file\n    print(line)\n    if i >= 10:\n        break\n    i += 1", 
      "outputs": [], 
      "metadata": {
        "scrolled": true, 
        "collapsed": false, 
        "format": "row"
      }
    }, 
    {
      "source": "We can also skip the remaining code of the loop and go back to the beginning as if we had finished the current pass through the loop with `continue`. Again, this works for both kinds of loops. This is useful to avoid lots of nested if statements or heavily indented code from being stuck in if statements. For example, skipping a file header.\n\n\n", 
      "cell_type": "markdown", 
      "attachments": {}, 
      "metadata": {}
    }, 
    {
      "execution_count": 0, 
      "cell_type": "code", 
      "source": "for i in range(20):\n    if i < 10:\n        continue\n    print(i)", 
      "outputs": [], 
      "metadata": {
        "scrolled": true, 
        "collapsed": false, 
        "format": "row"
      }
    }, 
    {
      "source": "### Exercise\n\n\nAdd conditional statements into this code using `continue` and `break` to only print out numbers 10-20.\n\n\n", 
      "cell_type": "markdown", 
      "attachments": {}, 
      "metadata": {}
    }, 
    {
      "execution_count": 0, 
      "cell_type": "code", 
      "source": "i = 0\nwhile i < 100:\n    print(i)\n    i += 1", 
      "outputs": [], 
      "metadata": {
        "scrolled": true, 
        "collapsed": false, 
        "format": "row"
      }
    }, 
    {
      "source": "## Reading files\n\n\nLet's put these types together and write a simple program to read the first line of a text file. To do this, we will need a way to interact with files outside of Python. The most basic way of doing this is the 'file handle'. This is a data object that is created to allow us to look at a specific chunk of memory on the hard-drive.\n\n\nThe way we create a file handle is with the ```open``` command. This takes one required argument, the name of the file we want to interact with, and has several options arguments of which we are only going to learn about one right now, the 'mode' argument. Mode tells the interpreter how we want to interact with the file and will default to 'read', meaning we can view the file but cannot change anything about it.\n\n\n", 
      "cell_type": "markdown", 
      "attachments": {}, 
      "metadata": {}
    }, 
    {
      "execution_count": 0, 
      "cell_type": "code", 
      "source": "f = open('data/t_data.ctab')\nprint(f)", 
      "outputs": [], 
      "metadata": {
        "scrolled": true, 
        "collapsed": false, 
        "format": "row"
      }
    }, 
    {
      "source": "The file handle we've created has several methods (functions built in to a data class). One is the ```readline``` method, which returns all of the text in the file up to the first newline character.\n\n\n", 
      "cell_type": "markdown", 
      "attachments": {}, 
      "metadata": {}
    }, 
    {
      "execution_count": 0, 
      "cell_type": "code", 
      "source": "l = f.readline()\nprint(l)", 
      "outputs": [], 
      "metadata": {
        "scrolled": true, 
        "collapsed": false, 
        "format": "row"
      }
    }, 
    {
      "source": "This advances the file handle to looking at the start of the next line of text in the file, so each time we call ```readline``` we will get the next line of text. When we're finished with our file handle, we can call the ```close``` method (although this will occur automatically when your script ends).\n\n\nWe can also use the ```write``` method to add data to the file.\n\n\n", 
      "cell_type": "markdown", 
      "attachments": {}, 
      "metadata": {}
    }, 
    {
      "execution_count": 0, 
      "cell_type": "code", 
      "source": "f.write('test')", 
      "outputs": [], 
      "metadata": {
        "scrolled": true, 
        "collapsed": false, 
        "format": "row"
      }
    }, 
    {
      "source": "Now why didn't that work? If you recall, we did not specify a value for 'mode' so it defaulted to 'read'. If we use ```mode='write'``` or ```mode='w'```, this will create a new empty file to write to. But be careful. If the file already exists, it will be overwritten. We could also use ```mode='append'```, which will create a new file if doesn't exist, but append new data on the end of the file if it already exists. When writing, we need to be sure to close the file handle to properly write the fle.\n\n\n", 
      "cell_type": "markdown", 
      "attachments": {}, 
      "metadata": {}
    }, 
    {
      "execution_count": 0, 
      "cell_type": "code", 
      "source": "# First let's close our file handle\nf.close()\n\n# Now let's open a new file\nf = open('test.txt', mode='w')\nf.write('test')\n\n# Alternatively, you could use a print command\n# print('test', file=f)\n\nf.close()", 
      "outputs": [], 
      "metadata": {
        "scrolled": true, 
        "collapsed": false, 
        "format": "row"
      }
    }, 
    {
      "source": "We should now have a file containing our text in it.\n\n\n### Exercise:\n\n\nCan you write code to open the file you just created and print its contents?\n\n\n", 
      "cell_type": "markdown", 
      "attachments": {}, 
      "metadata": {}
    }, 
    {
      "execution_count": 0, 
      "cell_type": "code", 
      "source": "for line in open('test.txt'):\n    print(line, end='') # the 'end' argument prevents appending a newline character on the print output", 
      "outputs": [], 
      "metadata": {
        "scrolled": true, 
        "collapsed": false, 
        "format": "row"
      }
    }, 
    {
      "source": "## A script to analyze a file\n\n\nLet's put these new skills into action and write a simple script to analyze some trait of a text file.\n\n\nIdeally we would write this script to take in data from standard input and write to standard output so it could work in a pipeline. We would do this by using the standard input file handle just like any other file.\n\n\n", 
      "cell_type": "markdown", 
      "attachments": {}, 
      "metadata": {}
    }, 
    {
      "execution_count": 0, 
      "cell_type": "code", 
      "source": "import sys\n\nf = sys.stdin", 
      "outputs": [], 
      "metadata": {
        "scrolled": true, 
        "collapsed": false, 
        "format": "row"
      }
    }, 
    {
      "source": "Next, we need some way to look at each line in turn. We've already seen the ```readline``` method.  File handles can be used as iterators and act as if each request is a call of ```readline```. In a for loop when the end of the file is reached, the for loop finishes.\n\n\n", 
      "cell_type": "markdown", 
      "attachments": {}, 
      "metadata": {}
    }, 
    {
      "execution_count": 0, 
      "cell_type": "code", 
      "source": "# Because we can't stream data in a Jupyter notebook, we'll open a file instead\nf = open('data/t_data.ctab')\n\n# This will iterate over each line of the file\nfor line in f:\n    # Next, we want to skip the header line, which we know starts with 't_id'\n    if line.startswith('t_id'):\n        continue\n\n    # Next, we want to create a list out of the line, splitting it into individual fields\n    # We want to take off the newline character before splitting the line\n    fields = line.rstrip('\\n\\r').split()\n    \n    # The start and end coordinates of each transcript are in columns 3 and 4.\n    # Let's find the size of each transcript\n    print(int(fields[4]) - int(fields[3]))\n\nf.close()", 
      "outputs": [], 
      "metadata": {
        "scrolled": true, 
        "collapsed": false, 
        "format": "row"
      }
    }, 
    {
      "source": "Note that we needed to convert the coordinates from fields into integers before performing a mathematical operation on them. Using the print statement, we sent the results to standard output, making it suitable for use in a pipeline.\n\n\n### Exercise:\n\n\nCan you find the maximum number of exons in data/t_data.ctab?\n\n\n", 
      "cell_type": "markdown", 
      "attachments": {}, 
      "metadata": {}
    }, 
    {
      "execution_count": 0, 
      "cell_type": "code", 
      "source": "max_exons = 0\nfor line in open('.data/t_data.ctab'):\n    if line.startswith('t_id'):\n        continue\n    exons = int(line.split('\\t')[6])\n    if exons > max_exons:\n        max_exons = exons\nprint(max_exons)", 
      "outputs": [], 
      "metadata": {
        "scrolled": true, 
        "collapsed": false, 
        "format": "row"
      }
    }
  ], 
  "metadata": {
    "kernelspec": {
      "display_name": "Python 3", 
      "name": "python3", 
      "language": "python"
    }, 
    "toc": {
      "nav_menu": {}, 
      "toc_window_display": true, 
      "base_numbering": 1, 
      "title_sidebar": "Contents", 
      "skip_h1_title": false, 
      "toc_postion": {}, 
      "toc_section_display": true, 
      "title_cell": "Table of Contents", 
      "number_sections": false, 
      "sideBar": true, 
      "toc_cell": false
    }, 
    "language_info": {
      "mimetype": "text/x-python", 
      "nbconvert_exporter": "python", 
      "name": "python", 
      "file_extension": ".py", 
      "version": "3.7.6", 
      "pygments_lexer": "ipython3", 
      "codemirror_mode": {
        "version": 3, 
        "name": "ipython"
      }
    }
  }, 
  "nbformat_minor": 4
}