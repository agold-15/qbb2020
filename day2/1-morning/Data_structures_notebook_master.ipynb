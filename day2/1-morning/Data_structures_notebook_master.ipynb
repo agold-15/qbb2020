{
  "nbformat": 4,
  "nbformat_minor": 4,
  "cells": [
    {
      "cell_type": "markdown",
      "metadata": {},
      "attachments": {},
      "source": "## Learning objectives\n\n\n1. Understanding dictionaries\n\n2. Nesting data structures\n\n3. Copying data structures\n\n4. Using dictionary methods to access data\n\n5. Applying data structures to solving bioinformatics problems\n\n---\n\n\n\n\n## A little more about for loops\n\n\nBecause `for` loops are such a critical tool in python, let's make sure that we understand them. A for loop does one thing. Takes items from an ordered set of objects and puts them one at a time into a variable that can then be used in the body of the for loop.\n\n\nThe ordered set of objects can be a list, a tuple, the characters of a string, or an iterator. An iterator is just like a list that doesn't hold everything in memory at once but fetches or creates the next item when it is needed. We've seen two iterators so far, `range` and filehandles.\n\n\n"
    },
    {
      "cell_type": "code",
      "execution_count": 0,
      "metadata": {
        "scrolled": true,
        "collapsed": false,
        "format": "row"
      },
      "source": "A = ['a', 'b', 'c']\nfor i in A:\n    print(i)\n\nA = range(3)\nfor i in A:\n    print(i)",
      "outputs": []
    },
    {
      "cell_type": "markdown",
      "metadata": {},
      "attachments": {},
      "source": "The basic syntax of the for loop doesn't change, regardless of what you are looping over. You just need the statement `for`, a variable to put values in, the keyword `in`, the ordered set of objects, and the colon to indicate the beginning of the body of the for loop. Just be careful not to change the length of the ordered set of items you are looping through in your for loop, as this can cause errors.\n\n\n## Using dictionary\n\n\nFirst, let's just practice using a dictionary, since this is a new concept to many of you.\n\n\n"
    },
    {
      "cell_type": "code",
      "execution_count": 0,
      "metadata": {
        "scrolled": true,
        "collapsed": false,
        "format": "row"
      },
      "source": "D = {}\nD['A'] = 1\nD['B'] = 2\nD[(0, 1)] = 'A'\nprint(D)",
      "outputs": []
    },
    {
      "cell_type": "markdown",
      "metadata": {},
      "attachments": {},
      "source": "Another really handy way to add items to a dictionary is to use `setdefault`. This only adds a value if the key isn't in the dictionary yet.\n\n\n"
    },
    {
      "cell_type": "code",
      "execution_count": 0,
      "metadata": {
        "scrolled": true,
        "collapsed": false,
        "format": "row"
      },
      "source": "D.setdefault('C', 3)\nD.setdefault('A', 3)\nprint(D)",
      "outputs": []
    },
    {
      "cell_type": "markdown",
      "metadata": {},
      "attachments": {},
      "source": "We can see that only 'C' was added with the value of 3. 'A' already existed so no change was made to the dictionary. Conversely, we can use the `get` command to get a value or return a default value if the key isn't in the dictionary.\n\n\n"
    },
    {
      "cell_type": "code",
      "execution_count": 0,
      "metadata": {
        "scrolled": true,
        "collapsed": false,
        "format": "row"
      },
      "source": "print(D.get('C', 4))\nprint(D.get('D', 4))",
      "outputs": []
    },
    {
      "cell_type": "markdown",
      "metadata": {},
      "attachments": {},
      "source": "Since 'C' was in the dictionary, we got back 3. Since 'D' wasn't in the dictionary, we got back our default value of 4.\n\n\nNow let's remove items from our dictionary.\n\n\n"
    },
    {
      "cell_type": "code",
      "execution_count": 0,
      "metadata": {
        "scrolled": true,
        "collapsed": false,
        "format": "row"
      },
      "source": "del D['A']\nv = D.pop('B')\n\nprint(D)\nprint(v)",
      "outputs": []
    },
    {
      "cell_type": "markdown",
      "metadata": {},
      "attachments": {},
      "source": "## Combining tuples and lists\n\n\nAs we saw, tuples are immutable, meaning that they can't be changed once created. However, we also saw that when you create a list, what you have really created is a reference to the chain of items in the list. So, what happens when you have a list in a tuple?\n\n\n"
    },
    {
      "cell_type": "code",
      "execution_count": 0,
      "metadata": {
        "scrolled": true,
        "collapsed": false,
        "format": "row"
      },
      "source": "L = [1,2,3]\nT1 = (L, 'A', 'B')\nprint(T1)",
      "outputs": []
    },
    {
      "cell_type": "markdown",
      "metadata": {},
      "attachments": {},
      "source": "But, what happens if we try to change something in the list? A list is mutable, but it is contained in a tuple, which isn't.\n\n\n"
    },
    {
      "cell_type": "code",
      "execution_count": 0,
      "metadata": {
        "scrolled": true,
        "collapsed": false,
        "format": "row"
      },
      "source": "L[0] = 9\nprint(T1)",
      "outputs": []
    },
    {
      "cell_type": "markdown",
      "metadata": {},
      "attachments": {},
      "source": "Okay, it works! That is because the reference isn't changing.\n\n\n## Shallow and deep copy\n\n\nWe've seen how data structures can be nested. Now what if we need to have two copies of them?\n\n\n"
    },
    {
      "cell_type": "code",
      "execution_count": 0,
      "metadata": {
        "scrolled": true,
        "collapsed": false,
        "format": "row"
      },
      "source": "T2 = tuple(T1)\nprint(T2)",
      "outputs": []
    },
    {
      "cell_type": "markdown",
      "metadata": {},
      "attachments": {},
      "source": "But if we alter the list of T1, what happens to T2?\n\n\n"
    },
    {
      "cell_type": "code",
      "execution_count": 0,
      "metadata": {
        "scrolled": true,
        "collapsed": false,
        "format": "row"
      },
      "source": "T1[0][0] = 7\nprint(T1)\nprint(T2)",
      "outputs": []
    },
    {
      "cell_type": "markdown",
      "metadata": {},
      "attachments": {},
      "source": "What we have done is make a shallow copy. If we need to make a copy of all of the elements, including the list, we need to make a deep copy. To do this, we could do it manually.\n\n\n"
    },
    {
      "cell_type": "code",
      "execution_count": 0,
      "metadata": {
        "scrolled": true,
        "collapsed": false,
        "format": "row"
      },
      "source": "L2 = list(L)\nT2 = tuple([L, T1[1:]])",
      "outputs": []
    },
    {
      "cell_type": "markdown",
      "metadata": {},
      "attachments": {},
      "source": "However, this is not very elegant or practical. Another option is to use a built-in python model called 'copy'. There are only two functions in this library, ```copy``` and ```deepcopy```, which are pretty self-explanatory names. Let's see what a deep copy looks like.\n\n\n"
    },
    {
      "cell_type": "code",
      "execution_count": 0,
      "metadata": {
        "scrolled": true,
        "collapsed": false,
        "format": "row"
      },
      "source": "import copy\n\nT2 = copy.deepcopy(T1)\nT1[0][0] = 5\nprint(T1)\nprint(T2)",
      "outputs": []
    },
    {
      "cell_type": "markdown",
      "metadata": {},
      "attachments": {},
      "source": "We now have a deep copy of our tuple. What's more, the ```deepcopy``` function will work on most python objects, and all of the ones you will encounter here.\n\n\n### Excercise:\n\n\nCreate a nested data structure (one data structure as the member of another data structure) and make a deep copy of it. Then alter the nested data structure and print both outer data structures to prove that your deep copy worked.\n\n\n"
    },
    {
      "cell_type": "code",
      "execution_count": 0,
      "metadata": {
        "scrolled": true,
        "collapsed": false,
        "format": "row"
      },
      "source": "import copy\n\nA = [[1, 2, 3], [4, 5, 6], [7, 8, 9]]\nB = copy.deepcopy(A)\n\nA[0][0] = 'A'\nprint(A)\nprint(B)",
      "outputs": []
    },
    {
      "cell_type": "markdown",
      "metadata": {},
      "attachments": {},
      "source": "## Accessing dictionary items\n\n\nIn the lecture, three different methods were mentioned that could access information from a dictionary. Let's look at how these work. Take the use case of keeping track of which tissues each of a set of genes are expressed in. Given a set of gene names A-E and tissues 0-6, let's find some basic properties of this data set. Let's find how many genes are expressed in tissue 1\n\n\n"
    },
    {
      "cell_type": "code",
      "execution_count": 0,
      "metadata": {
        "scrolled": true,
        "collapsed": false,
        "format": "row"
      },
      "source": "data = {\n    'A': [0, 2, 3],\n    'B': [1],\n    'C': [3, 4, 5],\n    'D': [0, 1, 2, 3],\n    'E': [6],\n}\n\ncount = 0\nfor g in data.keys():\n    if 1 in data[g]:\n    \tcount += 1\n    # or we could simply do count += 1 in data[g]\nprint(count)\n\n# We could also use the .values method\ncount = 0\nfor t in data.values():\n    count += 1 in t\nprint(count)",
      "outputs": []
    },
    {
      "cell_type": "markdown",
      "metadata": {},
      "attachments": {},
      "source": "What about keeping track of which genes are expressed in tissue 1? To do this, we need both the keys (gene names) and values (tissue lists) so the most logical method to use is ```.items```. This will introduce a new bit of for loop syntax. Since two items are returned each time in a tuple, the key and the value, we can either put that tuple into a variable and access each part in the for loop like this:\n\n\n"
    },
    {
      "cell_type": "code",
      "execution_count": 0,
      "metadata": {
        "scrolled": true,
        "collapsed": false,
        "format": "row"
      },
      "source": "genes = []\nfor i in data.items():\n    key = i[0]\n    value = i[1]\n    if 1 in value:\n    \tgenes.append(key)\nprint(genes)",
      "outputs": []
    },
    {
      "cell_type": "markdown",
      "metadata": {},
      "attachments": {},
      "source": "However, an easier way would be to unpack the tuple in the line that we call the for loop. This works because we know how many values are in the tuple ahead of time.\n\n\n"
    },
    {
      "cell_type": "code",
      "execution_count": 0,
      "metadata": {
        "scrolled": true,
        "collapsed": false,
        "format": "row"
      },
      "source": "genes = []\nfor k, v in data.items():\n    if 1 in v:\n    \tgenes.append(k)\nprint(genes)",
      "outputs": []
    },
    {
      "cell_type": "markdown",
      "metadata": {},
      "attachments": {},
      "source": "### Excercise:\n\n\nWrite a function that takes in a dictionary and counts the total number of unique tissues and returns a sorted list of these tissues. Then run it on our 'data' dictionary.\n\n\n"
    },
    {
      "cell_type": "code",
      "execution_count": 0,
      "metadata": {
        "scrolled": true,
        "collapsed": false,
        "format": "row"
      },
      "source": "def unique_tissues(data):\n    u_tissues = []\n    for k, v in data.items():\n        u_tissues += v\n    u_tissues = list(set(u_tissues))\n    u_tissues.sort()\n    return u_tissues\n\nprint(unique_tissues(data))",
      "outputs": []
    },
    {
      "cell_type": "markdown",
      "metadata": {},
      "attachments": {},
      "source": "## Enumerate\n\n\nSince we've just seen the unpacking syntax in a for loop, let's look at one other function that uses this approach and is very handy, the function ```enumerate```. Enumerate takes any iterator (including things like lists) and returns a counter along with the iterator items.\n\n\n"
    },
    {
      "cell_type": "code",
      "execution_count": 0,
      "metadata": {
        "scrolled": true,
        "collapsed": false,
        "format": "row"
      },
      "source": "L = ['A', 'B', 'C', 'D', 'E', 'F', 'G', 'H', 'I']\n\nfor i, v in enumerate(L):\n    print(i, v)",
      "outputs": []
    },
    {
      "cell_type": "markdown",
      "metadata": {},
      "attachments": {},
      "source": "## Counting unique items\n\n\nNow let's say we want to count unique items in a text file. In this case, let's look at a t_data.ctab file, which is a file of transcript-level expression measurements formated for the program 'ballgown'. We'll be using the file ```data/t_data.ctab```. First, let's load it into memory from the file.\n\n\n"
    },
    {
      "cell_type": "code",
      "execution_count": 0,
      "metadata": {
        "scrolled": true,
        "collapsed": false,
        "format": "row"
      },
      "source": "fs = open('data/t_data.ctab', 'r')\ndata = []\nfor line in fs:\n    data.append(line.rstrip().split('\\t'))\nfs.close()",
      "outputs": []
    },
    {
      "cell_type": "markdown",
      "metadata": {},
      "attachments": {},
      "source": "Now, the first line of the file will tell us which columns have which data.\n\n\n"
    },
    {
      "cell_type": "code",
      "execution_count": 0,
      "metadata": {
        "scrolled": true,
        "collapsed": false,
        "format": "row"
      },
      "source": "print(data[0])",
      "outputs": []
    },
    {
      "cell_type": "markdown",
      "metadata": {},
      "attachments": {},
      "source": "Now for counting unique genes. We can see that gene names are in the ninth column (where the first column is number zero). So, we've already seen that keeping track of unique elements is an excellent use of sets, so let's use that approach here.\n\n\n"
    },
    {
      "cell_type": "code",
      "execution_count": 0,
      "metadata": {
        "scrolled": true,
        "collapsed": false,
        "format": "row"
      },
      "source": "genes = set()\nfor line in data[1:]: # We don't want to include the header\n    gene = line[9]\n    if gene not in genes:\n        genes.add(gene)\nprint(genes)",
      "outputs": []
    },
    {
      "cell_type": "markdown",
      "metadata": {},
      "attachments": {},
      "source": "### Exercise\n\n\nCan you modify the code so that we are only counting unique genes that have at least one transcript with non-zero expression?\n\n\n"
    },
    {
      "cell_type": "code",
      "execution_count": 0,
      "metadata": {
        "scrolled": true,
        "collapsed": false,
        "format": "row"
      },
      "source": "genes = set()\nfor line in data[1:]: # We don't want to include the header\n    gene = line[9]\n    fpkm = float(line[11])\n    if gene not in genes and fpkm > 0:\n        genes.add(gene)\nprint(genes)",
      "outputs": []
    },
    {
      "cell_type": "markdown",
      "metadata": {},
      "attachments": {},
      "source": "## Counting occurences of items\n\n\nWhat if we want to count the number of transcripts for each gene? We will still need to keep track of unique gene names, but now we need to track the number of transcripts for each as well. This is exactly the sort of thing a dictionary is good for. Let's use the same approach as above, but modify our code to use a dictionary instead of a set to track genes.\n\n\n"
    },
    {
      "cell_type": "code",
      "execution_count": 0,
      "metadata": {
        "scrolled": true,
        "collapsed": false,
        "format": "row"
      },
      "source": "genes = {}\nfor line in data[1:]: # We don't want to include the header\n    gene = line[9]\n    if gene not in genes:\n        genes[gene] = 1\n    else:\n        genes[gene] += 1\nprint(genes)",
      "outputs": []
    },
    {
      "cell_type": "markdown",
      "metadata": {},
      "attachments": {},
      "source": "Of course, we can actually make this even a little easier by getting rid of the conditional statement and using the dictionary method ```.setdefault```.\n\n\n"
    },
    {
      "cell_type": "code",
      "execution_count": 0,
      "metadata": {
        "scrolled": true,
        "collapsed": false,
        "format": "row"
      },
      "source": "genes = {}\nfor line in data[1:]: # We don't want to include the header\n    gene = line[9]\n    genes.setdefault(gene, 0)\n    genes[gene] += 1\nprint(genes)",
      "outputs": []
    },
    {
      "cell_type": "markdown",
      "metadata": {},
      "attachments": {},
      "source": "### Exercise\n\n\nGiven our set of genes and transcript counts, can you figure out which gene has the most transcripts and how many transcripts that is?\n\n\n"
    },
    {
      "cell_type": "code",
      "execution_count": 0,
      "metadata": {
        "scrolled": true,
        "collapsed": false,
        "format": "row"
      },
      "source": "best_gene = ''\nbest_transcripts = 0\nfor k, v in genes.items():\n    if v > best_transcripts:\n        best_gene = k\n        best_transcripts = v\nprint(best_gene, best_transcripts)",
      "outputs": []
    },
    {
      "cell_type": "markdown",
      "metadata": {},
      "attachments": {},
      "source": "## Filtering input to targets of interest\n\n\nNow let's consider the case where we don't actually care about all genes, but only a specific set of genes listed in 'data/genes_of_interest.txt'. It is often the case that you will need to filter data before proceeding with your analysis.\n\n\nThe first thing we need to do is to get the genes of interest from the text file. This parsing of a file should be familiar now.\n\n\n"
    },
    {
      "cell_type": "code",
      "execution_count": 0,
      "metadata": {
        "scrolled": true,
        "collapsed": false,
        "format": "row"
      },
      "source": "genes_of_i = set()\nfor line in open('data/genes_of_interest.txt', 'r'):\n    genes_of_i.add(line.rstrip())",
      "outputs": []
    },
    {
      "cell_type": "markdown",
      "metadata": {},
      "attachments": {},
      "source": "Next, we need to modify our above code to only record genes from our interest list.\n\n\n"
    },
    {
      "cell_type": "code",
      "execution_count": 0,
      "metadata": {
        "scrolled": true,
        "collapsed": false,
        "format": "row"
      },
      "source": "genes = {}\nfor line in data[1:]: # We don't want to include the header\n    gene = line[9]\n    if gene in genes_of_i:\n        genes.setdefault(gene, 0)\n        genes[gene] += 1\nprint(genes)",
      "outputs": []
    },
    {
      "cell_type": "markdown",
      "metadata": {},
      "attachments": {},
      "source": "Simple, right?\n\n\n### Exercise\n\n\nCan you modify the code to remove genes that have fewer than three transcripts (using all genes, not just the genes of interest)?\n\n\n"
    },
    {
      "cell_type": "code",
      "execution_count": 0,
      "metadata": {
        "scrolled": true,
        "collapsed": false,
        "format": "row"
      },
      "source": "genes = {}\nfor line in data[1:]: # We don't want to include the header\n    gene = line[9]\n    genes.setdefault(gene, 0)\n    genes[gene] += 1\nfor k, v in genes.items():\n    if v < 3:\n        genes.pop(k)\nprint(genes)",
      "outputs": []
    },
    {
      "cell_type": "markdown",
      "metadata": {},
      "attachments": {},
      "source": "## Applying approaches to data analysis\n\n\nFinally, let's try parsing a pair of these files. Let's start by making sure that we have the data that we need by running ```cd /Users/cmdb/data/results; tar xzf SRP004442.stringtie.tar.gz``` to unpack one of the preloaded data files on your computer. Since we are going to be loading data from mutiple files, this is an ideal time to write a function to parse the file.\n\n\n"
    },
    {
      "cell_type": "code",
      "execution_count": 0,
      "metadata": {
        "scrolled": true,
        "collapsed": false,
        "format": "row"
      },
      "source": "def read_fpkms_from_t_data(fname):\n    fpkms = []\n    for i, line in enumerate(open(fname)):\n        if i == 0:\n            continue\n        fpkm = line.rstrip().split('\\t')[11]\n        fpkms.append(float(fpkm))\n    return fpkms",
      "outputs": []
    },
    {
      "cell_type": "markdown",
      "metadata": {},
      "attachments": {},
      "source": "Let's test is out on a file, '/Users/cmdb/data/results/stringtie/SRR072893/t_data.ctab'.\n\n\n"
    },
    {
      "cell_type": "code",
      "execution_count": 0,
      "metadata": {
        "scrolled": true,
        "collapsed": false,
        "format": "row"
      },
      "source": "fpkm1 = read_fpkms_from_t_data('/Users/cmdb/data/results/stringtie/SRR072893/t_data.ctab')\nprint(fpkm1[:10])",
      "outputs": []
    },
    {
      "cell_type": "markdown",
      "metadata": {},
      "attachments": {},
      "source": "Excellent, it works. Now let's see how the expression profiles of two samples compare to each. Let's look at the correlation. To do this, we'll use the pearson correlation function ```corrcoef``` in the ```numpy``` package. If we look at the documentation for this function, we can see that it returns a correlation matrix of values between all pairs of samples, so position zero zero is going to be sample one's correlation with itself, or one. So we need an off-diagonal value, or zero one.\n\n\n"
    },
    {
      "cell_type": "code",
      "execution_count": 0,
      "metadata": {
        "scrolled": true,
        "collapsed": false,
        "format": "row"
      },
      "source": "import numpy\n\nfpkm2 = read_fpkms_from_t_data('/Users/cmdb/data/results/stringtie/SRR072894/t_data.ctab')\nprint(numpy.corrcoef(fpkm1, fpkm2)[0, 1])",
      "outputs": []
    },
    {
      "cell_type": "markdown",
      "metadata": {},
      "attachments": {},
      "source": "But what happens if we have files that are not ordered the same or don't have exactly the same sets of genes? Let's find the correaltion between only gene transcripts that appear in both files. To do this, we need to adapt our function to keep track of gene transcript name data.\n\n\n"
    },
    {
      "cell_type": "code",
      "execution_count": 0,
      "metadata": {
        "scrolled": true,
        "collapsed": false,
        "format": "row"
      },
      "source": "def read_fpkms_from_t_data(fname):\n    fpkms = {}\n    for i, line in enumerate(open(fname)):\n        if i == 0:\n            continue\n        fields = line.rstrip().split('\\t')\n        transcript = fields[0]\n        fpkm = float(fields[11])\n        fpkms[transcript] = fpkm\n    return fpkms",
      "outputs": []
    },
    {
      "cell_type": "markdown",
      "metadata": {},
      "attachments": {},
      "source": "Now we need to load data for both datasets and then determine which transcripts are in both.\n\n\n"
    },
    {
      "cell_type": "code",
      "execution_count": 0,
      "metadata": {
        "scrolled": true,
        "collapsed": false,
        "format": "row"
      },
      "source": "fpkm1 = read_fpkms_from_t_data('/Users/cmdb/data/results/stringtie/SRR072893/t_data.ctab')\nfpkm2 = read_fpkms_from_t_data('/Users/cmdb/data/results/stringtie/SRR072894/t_data.ctab')\n\ntranscripts1 = set(fpkm1.keys())\ntranscripts2 = set(fpkm2.keys())\ntranscripts = transcripts1.intersection(transcripts2)",
      "outputs": []
    },
    {
      "cell_type": "markdown",
      "metadata": {},
      "attachments": {},
      "source": "Finally, we need to get the appropriate fpkm values for each dataset and then find the correlation.\n\n\n"
    },
    {
      "cell_type": "code",
      "execution_count": 0,
      "metadata": {
        "scrolled": true,
        "collapsed": false,
        "format": "row"
      },
      "source": "fpkm1_filtered = []\nfpkm2_filtered = []\nfor transcript in transcripts:\n    fpkm1_filtered.append(fpkm1[transcript])\n    fpkm2_filtered.append(fpkm2[transcript])\n\nprint(numpy.corrcoef(fpkm1_filtered, fpkm2_filtered)[0, 1])",
      "outputs": []
    },
    {
      "cell_type": "markdown",
      "metadata": {},
      "attachments": {},
      "source": "Finally, let's wrap this up into a script so it can be run on any dataset.\n\n\n### Exercise\n\n\nRewrite our function to find maximum FPKM per gene and return a dictionary keyed by gene names with maximum FPKM values.\n\n\n"
    },
    {
      "cell_type": "code",
      "execution_count": 0,
      "metadata": {
        "scrolled": true,
        "collapsed": false,
        "format": "row"
      },
      "source": "def read_fpkms_from_t_data(fname):\n    fpkms = {}\n    for i, line in enumerate(open(fname)):\n        if i == 0:\n            continue\n        fields = line.rstrip().split('\\t')\n        gene = fields[9]\n        fpkm = float(fields[11])\n        fpkms.setdefault(gene, 0)\n        fpkms[gene] = max(fpkms[gene], fpkm)\n    return fpkms",
      "outputs": []
    }
  ],
  "metadata": {
    "kernelspec": {
      "display_name": "Python 3",
      "language": "python",
      "name": "python3"
    },
    "language_info": {
      "codemirror_mode": {
        "name": "ipython",
        "version": 3
      },
      "file_extension": ".py",
      "mimetype": "text/x-python",
      "name": "python",
      "nbconvert_exporter": "python",
      "pygments_lexer": "ipython3",
      "version": "3.7.6"
    },
    "toc": {
      "base_numbering": 1,
      "nav_menu": {},
      "number_sections": false,
      "sideBar": true,
      "title_sidebar": "Contents",
      "skip_h1_title": false,
      "title_cell": "Table of Contents",
      "toc_cell": false,
      "toc_postion": {},
      "toc_window_display": true,
      "toc_section_display": true
    }
  }
}